{
 "cells": [
  {
   "cell_type": "markdown",
   "id": "562d1f9f",
   "metadata": {},
   "source": [
    "# <h1 style='color: darkblue; font-size: 30px;'>Data Science - Churn Prediction Project</h1>\n",
    "\n",
    "<p style='margin: 30px 30px;'>\n",
    "    \n",
    "<hr style = 'border: 1px solid darkblue;'>"
   ]
  },
  {
   "cell_type": "markdown",
   "id": "95e124bd",
   "metadata": {},
   "source": [
    "# <font color='darkblue' style='font-size: 10;'>The project</font>\n",
    "\n",
    "### <font color='darkblue' style='font-size: 20;'>Description:</font>\n",
    "\n",
    "The project aims to use Machine Learning algorithms to create a model capable of predicting the Churn of a telecom company. Three different models were developed to accomplish this task: the KNN, the Bernoulli Naive Bayes, and the Decision Trees.\n",
    "\n",
    "The dataset used was based on: https://www.kaggle.com/datasets/mnassrib/telecom-churn-datasets?select=churn-bigml-20.csv\n",
    "\n",
    "<hr style = 'border: 1px solid darkblue;'>"
   ]
  },
  {
   "cell_type": "markdown",
   "id": "fc6f5bce",
   "metadata": {},
   "source": [
    "# <font color='darkblue' style='font-size: 20;'>About the dataset</font>\n",
    "\n",
    "### <font color='darkblue' style='font-size: 20;'>Data</font>\n",
    "\n",
    "The dataset consists of 7043 data points stored as rows with 18 columns\n",
    "\n",
    "The dataset has the target column \"Churn\" and the other columns describe the customer's personal information, such as whether he is over 65 or not, if he has dependents, and if he is married.\n",
    "\n",
    "<hr style = 'border: 1px solid darkblue;'>"
   ]
  },
  {
   "cell_type": "markdown",
   "id": "c21759e0",
   "metadata": {},
   "source": [
    "# <font color='darkblue' style='font-size: 20;'>Preparation</font>\n",
    "<hr style = 'border: 1px solid darkblue;'>"
   ]
  },
  {
   "cell_type": "markdown",
   "id": "3013453c",
   "metadata": {},
   "source": [
    "### <font color='darkblue' style='font-size: 20;'>Importing the required libraries</font>"
   ]
  },
  {
   "cell_type": "code",
   "execution_count": 2,
   "id": "6d3ed92b",
   "metadata": {},
   "outputs": [],
   "source": [
    "import numpy as np\n",
    "import pandas as pd\n",
    "import matplotlib.pyplot as plt\n",
    "import seaborn as sns\n",
    "\n",
    "import warnings\n",
    "warnings.filterwarnings('ignore')"
   ]
  },
  {
   "cell_type": "markdown",
   "id": "5185d9be",
   "metadata": {},
   "source": [
    "### <font color='darkblue' style='font-size: 20;'>Reading the dataset</font>"
   ]
  },
  {
   "cell_type": "code",
   "execution_count": 11,
   "id": "f21621e4",
   "metadata": {},
   "outputs": [],
   "source": [
    "df = pd.read_csv('Dados\\\\Customer-Churn.csv')"
   ]
  },
  {
   "cell_type": "markdown",
   "id": "568d2a1a",
   "metadata": {},
   "source": [
    "### <font color='darkblue' style='font-size: 20;'>Visualizating the dataset</font> "
   ]
  },
  {
   "cell_type": "code",
   "execution_count": 12,
   "id": "432b1328",
   "metadata": {},
   "outputs": [
    {
     "data": {
      "text/html": [
       "<div>\n",
       "<style scoped>\n",
       "    .dataframe tbody tr th:only-of-type {\n",
       "        vertical-align: middle;\n",
       "    }\n",
       "\n",
       "    .dataframe tbody tr th {\n",
       "        vertical-align: top;\n",
       "    }\n",
       "\n",
       "    .dataframe thead th {\n",
       "        text-align: right;\n",
       "    }\n",
       "</style>\n",
       "<table border=\"1\" class=\"dataframe\">\n",
       "  <thead>\n",
       "    <tr style=\"text-align: right;\">\n",
       "      <th></th>\n",
       "      <th>Maior65Anos</th>\n",
       "      <th>Conjuge</th>\n",
       "      <th>Dependentes</th>\n",
       "      <th>MesesDeContrato</th>\n",
       "      <th>TelefoneFixo</th>\n",
       "      <th>VariasLinhasTelefonicas</th>\n",
       "      <th>ServicoDeInternet</th>\n",
       "      <th>SegurancaOnline</th>\n",
       "      <th>BackupOnline</th>\n",
       "      <th>SeguroNoDispositivo</th>\n",
       "      <th>SuporteTecnico</th>\n",
       "      <th>TVaCabo</th>\n",
       "      <th>StreamingDeFilmes</th>\n",
       "      <th>TipoDeContrato</th>\n",
       "      <th>PagamentoOnline</th>\n",
       "      <th>FormaDePagamento</th>\n",
       "      <th>ContaMensal</th>\n",
       "      <th>Churn</th>\n",
       "    </tr>\n",
       "  </thead>\n",
       "  <tbody>\n",
       "    <tr>\n",
       "      <th>0</th>\n",
       "      <td>0</td>\n",
       "      <td>Sim</td>\n",
       "      <td>Nao</td>\n",
       "      <td>1</td>\n",
       "      <td>Nao</td>\n",
       "      <td>SemServicoTelefonico</td>\n",
       "      <td>DSL</td>\n",
       "      <td>Nao</td>\n",
       "      <td>Sim</td>\n",
       "      <td>Nao</td>\n",
       "      <td>Nao</td>\n",
       "      <td>Nao</td>\n",
       "      <td>Nao</td>\n",
       "      <td>Mensalmente</td>\n",
       "      <td>Sim</td>\n",
       "      <td>ChequeDigital</td>\n",
       "      <td>29.85</td>\n",
       "      <td>Nao</td>\n",
       "    </tr>\n",
       "    <tr>\n",
       "      <th>1</th>\n",
       "      <td>0</td>\n",
       "      <td>Nao</td>\n",
       "      <td>Nao</td>\n",
       "      <td>34</td>\n",
       "      <td>Sim</td>\n",
       "      <td>Nao</td>\n",
       "      <td>DSL</td>\n",
       "      <td>Sim</td>\n",
       "      <td>Nao</td>\n",
       "      <td>Sim</td>\n",
       "      <td>Nao</td>\n",
       "      <td>Nao</td>\n",
       "      <td>Nao</td>\n",
       "      <td>UmAno</td>\n",
       "      <td>Nao</td>\n",
       "      <td>ChequePapel</td>\n",
       "      <td>56.95</td>\n",
       "      <td>Nao</td>\n",
       "    </tr>\n",
       "    <tr>\n",
       "      <th>2</th>\n",
       "      <td>0</td>\n",
       "      <td>Nao</td>\n",
       "      <td>Nao</td>\n",
       "      <td>2</td>\n",
       "      <td>Sim</td>\n",
       "      <td>Nao</td>\n",
       "      <td>DSL</td>\n",
       "      <td>Sim</td>\n",
       "      <td>Sim</td>\n",
       "      <td>Nao</td>\n",
       "      <td>Nao</td>\n",
       "      <td>Nao</td>\n",
       "      <td>Nao</td>\n",
       "      <td>Mensalmente</td>\n",
       "      <td>Sim</td>\n",
       "      <td>ChequePapel</td>\n",
       "      <td>53.85</td>\n",
       "      <td>Sim</td>\n",
       "    </tr>\n",
       "    <tr>\n",
       "      <th>3</th>\n",
       "      <td>0</td>\n",
       "      <td>Nao</td>\n",
       "      <td>Nao</td>\n",
       "      <td>45</td>\n",
       "      <td>Nao</td>\n",
       "      <td>SemServicoTelefonico</td>\n",
       "      <td>DSL</td>\n",
       "      <td>Sim</td>\n",
       "      <td>Nao</td>\n",
       "      <td>Sim</td>\n",
       "      <td>Sim</td>\n",
       "      <td>Nao</td>\n",
       "      <td>Nao</td>\n",
       "      <td>UmAno</td>\n",
       "      <td>Nao</td>\n",
       "      <td>DebitoEmConta</td>\n",
       "      <td>42.30</td>\n",
       "      <td>Nao</td>\n",
       "    </tr>\n",
       "    <tr>\n",
       "      <th>4</th>\n",
       "      <td>0</td>\n",
       "      <td>Nao</td>\n",
       "      <td>Nao</td>\n",
       "      <td>2</td>\n",
       "      <td>Sim</td>\n",
       "      <td>Nao</td>\n",
       "      <td>FibraOptica</td>\n",
       "      <td>Nao</td>\n",
       "      <td>Nao</td>\n",
       "      <td>Nao</td>\n",
       "      <td>Nao</td>\n",
       "      <td>Nao</td>\n",
       "      <td>Nao</td>\n",
       "      <td>Mensalmente</td>\n",
       "      <td>Sim</td>\n",
       "      <td>ChequeDigital</td>\n",
       "      <td>70.70</td>\n",
       "      <td>Sim</td>\n",
       "    </tr>\n",
       "  </tbody>\n",
       "</table>\n",
       "</div>"
      ],
      "text/plain": [
       "   Maior65Anos Conjuge Dependentes  MesesDeContrato TelefoneFixo  \\\n",
       "0            0     Sim         Nao                1          Nao   \n",
       "1            0     Nao         Nao               34          Sim   \n",
       "2            0     Nao         Nao                2          Sim   \n",
       "3            0     Nao         Nao               45          Nao   \n",
       "4            0     Nao         Nao                2          Sim   \n",
       "\n",
       "  VariasLinhasTelefonicas ServicoDeInternet SegurancaOnline BackupOnline  \\\n",
       "0    SemServicoTelefonico               DSL             Nao          Sim   \n",
       "1                     Nao               DSL             Sim          Nao   \n",
       "2                     Nao               DSL             Sim          Sim   \n",
       "3    SemServicoTelefonico               DSL             Sim          Nao   \n",
       "4                     Nao       FibraOptica             Nao          Nao   \n",
       "\n",
       "  SeguroNoDispositivo SuporteTecnico TVaCabo StreamingDeFilmes TipoDeContrato  \\\n",
       "0                 Nao            Nao     Nao               Nao    Mensalmente   \n",
       "1                 Sim            Nao     Nao               Nao          UmAno   \n",
       "2                 Nao            Nao     Nao               Nao    Mensalmente   \n",
       "3                 Sim            Sim     Nao               Nao          UmAno   \n",
       "4                 Nao            Nao     Nao               Nao    Mensalmente   \n",
       "\n",
       "  PagamentoOnline FormaDePagamento  ContaMensal Churn  \n",
       "0             Sim    ChequeDigital        29.85   Nao  \n",
       "1             Nao      ChequePapel        56.95   Nao  \n",
       "2             Sim      ChequePapel        53.85   Sim  \n",
       "3             Nao    DebitoEmConta        42.30   Nao  \n",
       "4             Sim    ChequeDigital        70.70   Sim  "
      ]
     },
     "execution_count": 12,
     "metadata": {},
     "output_type": "execute_result"
    }
   ],
   "source": [
    "df.head()"
   ]
  },
  {
   "cell_type": "markdown",
   "id": "90a75138",
   "metadata": {},
   "source": [
    "### <font color='darkblue' style='font-size: 20;'>Verifying the size of the dataset</font> "
   ]
  },
  {
   "cell_type": "code",
   "execution_count": 13,
   "id": "593771a3",
   "metadata": {},
   "outputs": [
    {
     "data": {
      "text/plain": [
       "(7043, 18)"
      ]
     },
     "execution_count": 13,
     "metadata": {},
     "output_type": "execute_result"
    }
   ],
   "source": [
    "df.shape"
   ]
  },
  {
   "cell_type": "markdown",
   "id": "9baa3e7d",
   "metadata": {},
   "source": [
    "### <font color='darkblue' style='font-size: 20;'>Analyzing descriptive statistics</font> "
   ]
  },
  {
   "cell_type": "code",
   "execution_count": 14,
   "id": "ab9dcf99",
   "metadata": {
    "scrolled": true
   },
   "outputs": [
    {
     "data": {
      "text/html": [
       "<div>\n",
       "<style scoped>\n",
       "    .dataframe tbody tr th:only-of-type {\n",
       "        vertical-align: middle;\n",
       "    }\n",
       "\n",
       "    .dataframe tbody tr th {\n",
       "        vertical-align: top;\n",
       "    }\n",
       "\n",
       "    .dataframe thead th {\n",
       "        text-align: right;\n",
       "    }\n",
       "</style>\n",
       "<table border=\"1\" class=\"dataframe\">\n",
       "  <thead>\n",
       "    <tr style=\"text-align: right;\">\n",
       "      <th></th>\n",
       "      <th>Maior65Anos</th>\n",
       "      <th>MesesDeContrato</th>\n",
       "      <th>ContaMensal</th>\n",
       "    </tr>\n",
       "  </thead>\n",
       "  <tbody>\n",
       "    <tr>\n",
       "      <th>count</th>\n",
       "      <td>7043.000000</td>\n",
       "      <td>7043.000000</td>\n",
       "      <td>7043.000000</td>\n",
       "    </tr>\n",
       "    <tr>\n",
       "      <th>mean</th>\n",
       "      <td>0.162147</td>\n",
       "      <td>32.371149</td>\n",
       "      <td>64.761692</td>\n",
       "    </tr>\n",
       "    <tr>\n",
       "      <th>std</th>\n",
       "      <td>0.368612</td>\n",
       "      <td>24.559481</td>\n",
       "      <td>30.090047</td>\n",
       "    </tr>\n",
       "    <tr>\n",
       "      <th>min</th>\n",
       "      <td>0.000000</td>\n",
       "      <td>0.000000</td>\n",
       "      <td>18.250000</td>\n",
       "    </tr>\n",
       "    <tr>\n",
       "      <th>25%</th>\n",
       "      <td>0.000000</td>\n",
       "      <td>9.000000</td>\n",
       "      <td>35.500000</td>\n",
       "    </tr>\n",
       "    <tr>\n",
       "      <th>50%</th>\n",
       "      <td>0.000000</td>\n",
       "      <td>29.000000</td>\n",
       "      <td>70.350000</td>\n",
       "    </tr>\n",
       "    <tr>\n",
       "      <th>75%</th>\n",
       "      <td>0.000000</td>\n",
       "      <td>55.000000</td>\n",
       "      <td>89.850000</td>\n",
       "    </tr>\n",
       "    <tr>\n",
       "      <th>max</th>\n",
       "      <td>1.000000</td>\n",
       "      <td>72.000000</td>\n",
       "      <td>118.750000</td>\n",
       "    </tr>\n",
       "  </tbody>\n",
       "</table>\n",
       "</div>"
      ],
      "text/plain": [
       "       Maior65Anos  MesesDeContrato  ContaMensal\n",
       "count  7043.000000      7043.000000  7043.000000\n",
       "mean      0.162147        32.371149    64.761692\n",
       "std       0.368612        24.559481    30.090047\n",
       "min       0.000000         0.000000    18.250000\n",
       "25%       0.000000         9.000000    35.500000\n",
       "50%       0.000000        29.000000    70.350000\n",
       "75%       0.000000        55.000000    89.850000\n",
       "max       1.000000        72.000000   118.750000"
      ]
     },
     "execution_count": 14,
     "metadata": {},
     "output_type": "execute_result"
    }
   ],
   "source": [
    "df.describe()"
   ]
  },
  {
   "cell_type": "markdown",
   "id": "aaa629c1",
   "metadata": {},
   "source": [
    "### <font color='darkblue' style='font-size: 20;'>Checking if that there are no non-null values in the data</font> "
   ]
  },
  {
   "cell_type": "code",
   "execution_count": 15,
   "id": "192a7ee5",
   "metadata": {},
   "outputs": [
    {
     "name": "stdout",
     "output_type": "stream",
     "text": [
      "<class 'pandas.core.frame.DataFrame'>\n",
      "RangeIndex: 7043 entries, 0 to 7042\n",
      "Data columns (total 18 columns):\n",
      " #   Column                   Non-Null Count  Dtype  \n",
      "---  ------                   --------------  -----  \n",
      " 0   Maior65Anos              7043 non-null   int64  \n",
      " 1   Conjuge                  7043 non-null   object \n",
      " 2   Dependentes              7043 non-null   object \n",
      " 3   MesesDeContrato          7043 non-null   int64  \n",
      " 4   TelefoneFixo             7043 non-null   object \n",
      " 5   VariasLinhasTelefonicas  7043 non-null   object \n",
      " 6   ServicoDeInternet        7043 non-null   object \n",
      " 7   SegurancaOnline          7043 non-null   object \n",
      " 8   BackupOnline             7043 non-null   object \n",
      " 9   SeguroNoDispositivo      7043 non-null   object \n",
      " 10  SuporteTecnico           7043 non-null   object \n",
      " 11  TVaCabo                  7043 non-null   object \n",
      " 12  StreamingDeFilmes        7043 non-null   object \n",
      " 13  TipoDeContrato           7043 non-null   object \n",
      " 14  PagamentoOnline          7043 non-null   object \n",
      " 15  FormaDePagamento         7043 non-null   object \n",
      " 16  ContaMensal              7043 non-null   float64\n",
      " 17  Churn                    7043 non-null   object \n",
      "dtypes: float64(1), int64(2), object(15)\n",
      "memory usage: 990.5+ KB\n"
     ]
    }
   ],
   "source": [
    "df.info()"
   ]
  },
  {
   "cell_type": "code",
   "execution_count": 16,
   "id": "cf6d3f57",
   "metadata": {},
   "outputs": [
    {
     "data": {
      "text/plain": [
       "Maior65Anos                0\n",
       "Conjuge                    0\n",
       "Dependentes                0\n",
       "MesesDeContrato            0\n",
       "TelefoneFixo               0\n",
       "VariasLinhasTelefonicas    0\n",
       "ServicoDeInternet          0\n",
       "SegurancaOnline            0\n",
       "BackupOnline               0\n",
       "SeguroNoDispositivo        0\n",
       "SuporteTecnico             0\n",
       "TVaCabo                    0\n",
       "StreamingDeFilmes          0\n",
       "TipoDeContrato             0\n",
       "PagamentoOnline            0\n",
       "FormaDePagamento           0\n",
       "ContaMensal                0\n",
       "Churn                      0\n",
       "dtype: int64"
      ]
     },
     "execution_count": 16,
     "metadata": {},
     "output_type": "execute_result"
    }
   ],
   "source": [
    "df.isnull().sum()"
   ]
  },
  {
   "cell_type": "markdown",
   "id": "606bb5b1",
   "metadata": {},
   "source": [
    "No null value or NA "
   ]
  },
  {
   "cell_type": "markdown",
   "id": "44246364",
   "metadata": {},
   "source": [
    "### <font color='darkblue' style='font-size: 20;'> Variable transformation</font> "
   ]
  },
  {
   "cell_type": "code",
   "execution_count": 17,
   "id": "4b232095",
   "metadata": {},
   "outputs": [],
   "source": [
    "traducao_dic = {'Sim' : 1, 'Nao': 0}\n",
    "                \n",
    "dadosmodificados = df[['Conjuge', 'Dependentes', 'TelefoneFixo', 'PagamentoOnline', 'Churn']].replace(traducao_dic)"
   ]
  },
  {
   "cell_type": "code",
   "execution_count": 18,
   "id": "6a5cb57a",
   "metadata": {},
   "outputs": [],
   "source": [
    "#Transformation by get dummies\n",
    "dummies = pd.get_dummies(df.drop(['Conjuge', 'Dependentes', 'TelefoneFixo', 'PagamentoOnline', 'Churn'], axis=1))\n",
    "\n",
    "#Concat of transformed data with the dataset\n",
    "df = pd.concat([dadosmodificados, dummies], axis=1)"
   ]
  },
  {
   "cell_type": "code",
   "execution_count": 20,
   "id": "de561173",
   "metadata": {},
   "outputs": [
    {
     "data": {
      "text/html": [
       "<div>\n",
       "<style scoped>\n",
       "    .dataframe tbody tr th:only-of-type {\n",
       "        vertical-align: middle;\n",
       "    }\n",
       "\n",
       "    .dataframe tbody tr th {\n",
       "        vertical-align: top;\n",
       "    }\n",
       "\n",
       "    .dataframe thead th {\n",
       "        text-align: right;\n",
       "    }\n",
       "</style>\n",
       "<table border=\"1\" class=\"dataframe\">\n",
       "  <thead>\n",
       "    <tr style=\"text-align: right;\">\n",
       "      <th></th>\n",
       "      <th>Conjuge</th>\n",
       "      <th>Dependentes</th>\n",
       "      <th>TelefoneFixo</th>\n",
       "      <th>PagamentoOnline</th>\n",
       "      <th>Churn</th>\n",
       "      <th>Maior65Anos</th>\n",
       "      <th>MesesDeContrato</th>\n",
       "      <th>ContaMensal</th>\n",
       "      <th>VariasLinhasTelefonicas_Nao</th>\n",
       "      <th>VariasLinhasTelefonicas_SemServicoTelefonico</th>\n",
       "      <th>...</th>\n",
       "      <th>StreamingDeFilmes_Nao</th>\n",
       "      <th>StreamingDeFilmes_SemServicoDeInternet</th>\n",
       "      <th>StreamingDeFilmes_Sim</th>\n",
       "      <th>TipoDeContrato_DoisAnos</th>\n",
       "      <th>TipoDeContrato_Mensalmente</th>\n",
       "      <th>TipoDeContrato_UmAno</th>\n",
       "      <th>FormaDePagamento_CartaoDeCredito</th>\n",
       "      <th>FormaDePagamento_ChequeDigital</th>\n",
       "      <th>FormaDePagamento_ChequePapel</th>\n",
       "      <th>FormaDePagamento_DebitoEmConta</th>\n",
       "    </tr>\n",
       "  </thead>\n",
       "  <tbody>\n",
       "    <tr>\n",
       "      <th>0</th>\n",
       "      <td>1</td>\n",
       "      <td>0</td>\n",
       "      <td>0</td>\n",
       "      <td>1</td>\n",
       "      <td>0</td>\n",
       "      <td>0</td>\n",
       "      <td>1</td>\n",
       "      <td>29.85</td>\n",
       "      <td>0</td>\n",
       "      <td>1</td>\n",
       "      <td>...</td>\n",
       "      <td>1</td>\n",
       "      <td>0</td>\n",
       "      <td>0</td>\n",
       "      <td>0</td>\n",
       "      <td>1</td>\n",
       "      <td>0</td>\n",
       "      <td>0</td>\n",
       "      <td>1</td>\n",
       "      <td>0</td>\n",
       "      <td>0</td>\n",
       "    </tr>\n",
       "    <tr>\n",
       "      <th>1</th>\n",
       "      <td>0</td>\n",
       "      <td>0</td>\n",
       "      <td>1</td>\n",
       "      <td>0</td>\n",
       "      <td>0</td>\n",
       "      <td>0</td>\n",
       "      <td>34</td>\n",
       "      <td>56.95</td>\n",
       "      <td>1</td>\n",
       "      <td>0</td>\n",
       "      <td>...</td>\n",
       "      <td>1</td>\n",
       "      <td>0</td>\n",
       "      <td>0</td>\n",
       "      <td>0</td>\n",
       "      <td>0</td>\n",
       "      <td>1</td>\n",
       "      <td>0</td>\n",
       "      <td>0</td>\n",
       "      <td>1</td>\n",
       "      <td>0</td>\n",
       "    </tr>\n",
       "  </tbody>\n",
       "</table>\n",
       "<p>2 rows × 39 columns</p>\n",
       "</div>"
      ],
      "text/plain": [
       "   Conjuge  Dependentes  TelefoneFixo  PagamentoOnline  Churn  Maior65Anos  \\\n",
       "0        1            0             0                1      0            0   \n",
       "1        0            0             1                0      0            0   \n",
       "\n",
       "   MesesDeContrato  ContaMensal  VariasLinhasTelefonicas_Nao  \\\n",
       "0                1        29.85                            0   \n",
       "1               34        56.95                            1   \n",
       "\n",
       "   VariasLinhasTelefonicas_SemServicoTelefonico  ...  StreamingDeFilmes_Nao  \\\n",
       "0                                             1  ...                      1   \n",
       "1                                             0  ...                      1   \n",
       "\n",
       "   StreamingDeFilmes_SemServicoDeInternet  StreamingDeFilmes_Sim  \\\n",
       "0                                       0                      0   \n",
       "1                                       0                      0   \n",
       "\n",
       "   TipoDeContrato_DoisAnos  TipoDeContrato_Mensalmente  TipoDeContrato_UmAno  \\\n",
       "0                        0                           1                     0   \n",
       "1                        0                           0                     1   \n",
       "\n",
       "   FormaDePagamento_CartaoDeCredito  FormaDePagamento_ChequeDigital  \\\n",
       "0                                 0                               1   \n",
       "1                                 0                               0   \n",
       "\n",
       "   FormaDePagamento_ChequePapel  FormaDePagamento_DebitoEmConta  \n",
       "0                             0                               0  \n",
       "1                             1                               0  \n",
       "\n",
       "[2 rows x 39 columns]"
      ]
     },
     "execution_count": 20,
     "metadata": {},
     "output_type": "execute_result"
    }
   ],
   "source": [
    "df.head(2)"
   ]
  },
  {
   "cell_type": "markdown",
   "id": "6b874f38",
   "metadata": {},
   "source": [
    "# <font color='darkblue' style='font-size: 20;'>Processing</font>\n",
    "<hr style = 'border: 1px solid darkblue;'>"
   ]
  },
  {
   "cell_type": "markdown",
   "id": "ca6feee3",
   "metadata": {},
   "source": [
    "### <font color='darkblue' style='font-size: 20;'>Exploratory Data Analysis</font> "
   ]
  },
  {
   "cell_type": "code",
   "execution_count": 21,
   "id": "91591449",
   "metadata": {},
   "outputs": [
    {
     "data": {
      "text/plain": [
       "0    5174\n",
       "1    1869\n",
       "Name: Churn, dtype: int64"
      ]
     },
     "execution_count": 21,
     "metadata": {},
     "output_type": "execute_result"
    },
    {
     "data": {
      "image/png": "[encoded data removed]",
      "text/plain": [
       "<Figure size 432x288 with 1 Axes>"
      ]
     },
     "metadata": {
      "needs_background": "light"
     },
     "output_type": "display_data"
    }
   ],
   "source": [
    "ax = sns.countplot(x='Churn', data=df)\n",
    "\n",
    "df['Churn'].value_counts()"
   ]
  },
  {
   "cell_type": "markdown",
   "id": "4a3fa98d",
   "metadata": {},
   "source": [
    "**It might be necessary to rebalance the data**"
   ]
  },
  {
   "cell_type": "markdown",
   "id": "38b9a68e",
   "metadata": {},
   "source": [
    "### <font color='darkblue' style='font-size: 20;'>Data Balancing</font> "
   ]
  },
  {
   "cell_type": "code",
   "execution_count": 25,
   "id": "279a7348",
   "metadata": {},
   "outputs": [],
   "source": [
    "from imblearn.over_sampling import SMOTE"
   ]
  },
  {
   "cell_type": "code",
   "execution_count": 26,
   "id": "1981ad66",
   "metadata": {},
   "outputs": [],
   "source": [
    "#Data division\n",
    "X = df.drop('Churn', axis=1)\n",
    "y = df['Churn']"
   ]
  },
  {
   "cell_type": "code",
   "execution_count": 27,
   "id": "3d46dc14",
   "metadata": {},
   "outputs": [],
   "source": [
    "smt = SMOTE(random_state=123)\n",
    "X, y = smt.fit_resample(X, y)"
   ]
  },
  {
   "cell_type": "code",
   "execution_count": 28,
   "id": "b56c0e25",
   "metadata": {},
   "outputs": [],
   "source": [
    "#merging the balanced data\n",
    "df = pd.concat([X, y], axis=1)"
   ]
  },
  {
   "cell_type": "code",
   "execution_count": 29,
   "id": "0a1558af",
   "metadata": {},
   "outputs": [
    {
     "data": {
      "text/plain": [
       "(10348, 39)"
      ]
     },
     "execution_count": 29,
     "metadata": {},
     "output_type": "execute_result"
    }
   ],
   "source": [
    "df.shape"
   ]
  },
  {
   "cell_type": "code",
   "execution_count": 30,
   "id": "e90ee9c9",
   "metadata": {},
   "outputs": [
    {
     "data": {
      "text/plain": [
       "0    5174\n",
       "1    5174\n",
       "Name: Churn, dtype: int64"
      ]
     },
     "execution_count": 30,
     "metadata": {},
     "output_type": "execute_result"
    },
    {
     "data": {
      "image/png": "[encoded data removed]",
      "text/plain": [
       "<Figure size 432x288 with 1 Axes>"
      ]
     },
     "metadata": {
      "needs_background": "light"
     },
     "output_type": "display_data"
    }
   ],
   "source": [
    "#Second Verification - balance\n",
    "ax = sns.countplot(x='Churn', data=df)\n",
    "df['Churn'].value_counts()"
   ]
  },
  {
   "cell_type": "markdown",
   "id": "0c18fbb6",
   "metadata": {},
   "source": [
    "# <font color='darkblue' style='font-size: 20;'>Building the model</font>\n",
    "<hr style = 'border: 1px solid darkblue;'>"
   ]
  },
  {
   "cell_type": "markdown",
   "id": "a390eefa",
   "metadata": {},
   "source": [
    "### <font color='darkblue' style='font-size: 20;'>KNN</font> "
   ]
  },
  {
   "cell_type": "code",
   "execution_count": 31,
   "id": "1a764f11",
   "metadata": {},
   "outputs": [],
   "source": [
    "from sklearn.preprocessing import StandardScaler as SC"
   ]
  },
  {
   "cell_type": "code",
   "execution_count": 32,
   "id": "8d10c96c",
   "metadata": {},
   "outputs": [],
   "source": [
    "#Setting the value for dependent and independent variables\n",
    "X = df.drop('Churn', axis=1)\n",
    "y = df['Churn']"
   ]
  },
  {
   "cell_type": "code",
   "execution_count": 34,
   "id": "1badd0de",
   "metadata": {},
   "outputs": [
    {
     "data": {
      "text/plain": [
       "array([[ 1.26542767, -0.52756038, -3.06083934, ...,  1.30373042,\n",
       "        -0.47943196, -0.4360152 ],\n",
       "       [-0.79024667, -0.52756038,  0.32670777, ..., -0.76702973,\n",
       "         2.08580171, -0.4360152 ],\n",
       "       [-0.79024667, -0.52756038,  0.32670777, ..., -0.76702973,\n",
       "         2.08580171, -0.4360152 ],\n",
       "       ...,\n",
       "       [-0.79024667, -0.52756038,  0.32670777, ...,  1.30373042,\n",
       "        -0.47943196, -0.4360152 ],\n",
       "       [-0.79024667, -0.52756038,  0.32670777, ..., -0.76702973,\n",
       "        -0.47943196, -0.4360152 ],\n",
       "       [-0.79024667, -0.52756038,  0.32670777, ..., -0.76702973,\n",
       "        -0.47943196, -0.4360152 ]])"
      ]
     },
     "execution_count": 34,
     "metadata": {},
     "output_type": "execute_result"
    }
   ],
   "source": [
    "#Scale the data\n",
    "norm = SC()\n",
    "\n",
    "X_norm = norm.fit_transform(X)\n",
    "X_norm"
   ]
  },
  {
   "cell_type": "code",
   "execution_count": 35,
   "id": "52ca9a08",
   "metadata": {},
   "outputs": [],
   "source": [
    "from sklearn.model_selection import train_test_split"
   ]
  },
  {
   "cell_type": "code",
   "execution_count": 66,
   "id": "fe65ac45",
   "metadata": {},
   "outputs": [],
   "source": [
    "#Splitting the dataset\n",
    "SEED = 123\n",
    "X_train, X_test, Y_train, Y_test = train_test_split(X_norm, y, test_size=0.25, random_state=SEED)"
   ]
  },
  {
   "cell_type": "code",
   "execution_count": 89,
   "id": "71dfd22e",
   "metadata": {},
   "outputs": [
    {
     "data": {
      "text/html": [
       "<style>#sk-container-id-3 {color: black;background-color: white;}#sk-container-id-3 pre{padding: 0;}#sk-container-id-3 div.sk-toggleable {background-color: white;}#sk-container-id-3 label.sk-toggleable__label {cursor: pointer;display: block;width: 100%;margin-bottom: 0;padding: 0.3em;box-sizing: border-box;text-align: center;}#sk-container-id-3 label.sk-toggleable__label-arrow:before {content: \"▸\";float: left;margin-right: 0.25em;color: #696969;}#sk-container-id-3 label.sk-toggleable__label-arrow:hover:before {color: black;}#sk-container-id-3 div.sk-estimator:hover label.sk-toggleable__label-arrow:before {color: black;}#sk-container-id-3 div.sk-toggleable__content {max-height: 0;max-width: 0;overflow: hidden;text-align: left;background-color: #f0f8ff;}#sk-container-id-3 div.sk-toggleable__content pre {margin: 0.2em;color: black;border-radius: 0.25em;background-color: #f0f8ff;}#sk-container-id-3 input.sk-toggleable__control:checked~div.sk-toggleable__content {max-height: 200px;max-width: 100%;overflow: auto;}#sk-container-id-3 input.sk-toggleable__control:checked~label.sk-toggleable__label-arrow:before {content: \"▾\";}#sk-container-id-3 div.sk-estimator input.sk-toggleable__control:checked~label.sk-toggleable__label {background-color: #d4ebff;}#sk-container-id-3 div.sk-label input.sk-toggleable__control:checked~label.sk-toggleable__label {background-color: #d4ebff;}#sk-container-id-3 input.sk-hidden--visually {border: 0;clip: rect(1px 1px 1px 1px);clip: rect(1px, 1px, 1px, 1px);height: 1px;margin: -1px;overflow: hidden;padding: 0;position: absolute;width: 1px;}#sk-container-id-3 div.sk-estimator {font-family: monospace;background-color: #f0f8ff;border: 1px dotted black;border-radius: 0.25em;box-sizing: border-box;margin-bottom: 0.5em;}#sk-container-id-3 div.sk-estimator:hover {background-color: #d4ebff;}#sk-container-id-3 div.sk-parallel-item::after {content: \"\";width: 100%;border-bottom: 1px solid gray;flex-grow: 1;}#sk-container-id-3 div.sk-label:hover label.sk-toggleable__label {background-color: #d4ebff;}#sk-container-id-3 div.sk-serial::before {content: \"\";position: absolute;border-left: 1px solid gray;box-sizing: border-box;top: 0;bottom: 0;left: 50%;z-index: 0;}#sk-container-id-3 div.sk-serial {display: flex;flex-direction: column;align-items: center;background-color: white;padding-right: 0.2em;padding-left: 0.2em;position: relative;}#sk-container-id-3 div.sk-item {position: relative;z-index: 1;}#sk-container-id-3 div.sk-parallel {display: flex;align-items: stretch;justify-content: center;background-color: white;position: relative;}#sk-container-id-3 div.sk-item::before, #sk-container-id-3 div.sk-parallel-item::before {content: \"\";position: absolute;border-left: 1px solid gray;box-sizing: border-box;top: 0;bottom: 0;left: 50%;z-index: -1;}#sk-container-id-3 div.sk-parallel-item {display: flex;flex-direction: column;z-index: 1;position: relative;background-color: white;}#sk-container-id-3 div.sk-parallel-item:first-child::after {align-self: flex-end;width: 50%;}#sk-container-id-3 div.sk-parallel-item:last-child::after {align-self: flex-start;width: 50%;}#sk-container-id-3 div.sk-parallel-item:only-child::after {width: 0;}#sk-container-id-3 div.sk-dashed-wrapped {border: 1px dashed gray;margin: 0 0.4em 0.5em 0.4em;box-sizing: border-box;padding-bottom: 0.4em;background-color: white;}#sk-container-id-3 div.sk-label label {font-family: monospace;font-weight: bold;display: inline-block;line-height: 1.2em;}#sk-container-id-3 div.sk-label-container {text-align: center;}#sk-container-id-3 div.sk-container {/* jupyter's `normalize.less` sets `[hidden] { display: none; }` but bootstrap.min.css set `[hidden] { display: none !important; }` so we also need the `!important` here to be able to override the default hidden behavior on the sphinx rendered scikit-learn.org. See: https://github.com/scikit-learn/scikit-learn/issues/21755 */display: inline-block !important;position: relative;}#sk-container-id-3 div.sk-text-repr-fallback {display: none;}</style><div id=\"sk-container-id-3\" class=\"sk-top-container\"><div class=\"sk-text-repr-fallback\"><pre>KNeighborsClassifier(metric=&#x27;euclidean&#x27;)</pre><b>In a Jupyter environment, please rerun this cell to show the HTML representation or trust the notebook. <br />On GitHub, the HTML representation is unable to render, please try loading this page with nbviewer.org.</b></div><div class=\"sk-container\" hidden><div class=\"sk-item\"><div class=\"sk-estimator sk-toggleable\"><input class=\"sk-toggleable__control sk-hidden--visually\" id=\"sk-estimator-id-3\" type=\"checkbox\" checked><label for=\"sk-estimator-id-3\" class=\"sk-toggleable__label sk-toggleable__label-arrow\">KNeighborsClassifier</label><div class=\"sk-toggleable__content\"><pre>KNeighborsClassifier(metric=&#x27;euclidean&#x27;)</pre></div></div></div></div></div>"
      ],
      "text/plain": [
       "KNeighborsClassifier(metric='euclidean')"
      ]
     },
     "execution_count": 89,
     "metadata": {},
     "output_type": "execute_result"
    }
   ],
   "source": [
    "from sklearn.neighbors import KNeighborsClassifier\n",
    "\n",
    "#Create and fit the KNN model\n",
    "classifier = KNeighborsClassifier(metric='euclidean')\n",
    "classifier.fit(X_train, Y_train)"
   ]
  },
  {
   "cell_type": "code",
   "execution_count": 68,
   "id": "6e9f935a",
   "metadata": {},
   "outputs": [],
   "source": [
    "#Prediction of test set\n",
    "Y_pred_knn = classifier.predict(X_test)"
   ]
  },
  {
   "cell_type": "code",
   "execution_count": 69,
   "id": "b4a51b7c",
   "metadata": {},
   "outputs": [],
   "source": [
    "from sklearn import metrics"
   ]
  },
  {
   "cell_type": "code",
   "execution_count": 70,
   "id": "b71a1085",
   "metadata": {},
   "outputs": [
    {
     "name": "stdout",
     "output_type": "stream",
     "text": [
      "Accuracy: 0.8106\n",
      "Precision: 0.7939\n",
      "Recall: 0.8278\n",
      "F1: 0.8105\n"
     ]
    }
   ],
   "source": [
    "#Metrics\n",
    "print(\"Accuracy:\",round(metrics.accuracy_score(Y_test, Y_pred_knn),4))\n",
    "print(\"Precision:\",round(metrics.precision_score(Y_test, Y_pred_knn),4))\n",
    "print(\"Recall:\",round(metrics.recall_score(Y_test, Y_pred_knn),4))\n",
    "print(\"F1:\",round(metrics.f1_score(Y_test, Y_pred_knn),4))"
   ]
  },
  {
   "cell_type": "markdown",
   "id": "4041a823",
   "metadata": {},
   "source": [
    "#### <font color='darkblue' style='font-size: 20;'>Confusion Matrix - LR Model</font> "
   ]
  },
  {
   "cell_type": "code",
   "execution_count": 71,
   "id": "34384ff5",
   "metadata": {},
   "outputs": [],
   "source": [
    "from sklearn.metrics import confusion_matrix\n",
    "from sklearn.datasets import make_classification\n",
    "from sklearn.metrics import ConfusionMatrixDisplay"
   ]
  },
  {
   "cell_type": "code",
   "execution_count": 72,
   "id": "126c1122",
   "metadata": {},
   "outputs": [
    {
     "data": {
      "text/plain": [
       "<sklearn.metrics._plot.confusion_matrix.ConfusionMatrixDisplay at 0x1a225732d30>"
      ]
     },
     "execution_count": 72,
     "metadata": {},
     "output_type": "execute_result"
    },
    {
     "data": {
      "image/png": "[encoded data removed]",
      "text/plain": [
       "<Figure size 864x576 with 2 Axes>"
      ]
     },
     "metadata": {
      "needs_background": "light"
     },
     "output_type": "display_data"
    }
   ],
   "source": [
    "cm = confusion_matrix(Y_test, Y_pred_knn)\n",
    "disp = ConfusionMatrixDisplay(confusion_matrix=cm)\n",
    "disp.plot()"
   ]
  },
  {
   "cell_type": "markdown",
   "id": "82495139",
   "metadata": {},
   "source": [
    "#### <font color='darkblue' style='font-size: 20;'>Curva ROC - LR Model</font> "
   ]
  },
  {
   "cell_type": "code",
   "execution_count": 73,
   "id": "3cc869b8",
   "metadata": {},
   "outputs": [
    {
     "data": {
      "text/plain": [
       "<matplotlib.legend.Legend at 0x1a22a277ee0>"
      ]
     },
     "execution_count": 73,
     "metadata": {},
     "output_type": "execute_result"
    },
    {
     "data": {
      "image/png": "[encoded data removed]",
      "text/plain": [
       "<Figure size 864x576 with 1 Axes>"
      ]
     },
     "metadata": {
      "needs_background": "light"
     },
     "output_type": "display_data"
    }
   ],
   "source": [
    "y_pred_proba = classifier.predict_proba(X_test)[::,1]\n",
    "fpr, tpr, _ = metrics.roc_curve(Y_test, Y_pred_knn)\n",
    "auc = metrics.roc_auc_score(Y_test, y_pred_proba)\n",
    "\n",
    "plt.rcParams['figure.figsize']=(12.,8.)\n",
    "plt.plot(fpr, tpr, label=\"LR, auc=\"+str(auc))\n",
    "plt.plot([0,1], [0,1], color='r', lw=2, linestyle='--')\n",
    "plt.legend(loc=4)"
   ]
  },
  {
   "cell_type": "markdown",
   "id": "f093ffd1",
   "metadata": {},
   "source": [
    "<hr style = 'border: 1px solid darkblue;'>"
   ]
  },
  {
   "cell_type": "markdown",
   "id": "b510f0c9",
   "metadata": {},
   "source": [
    "### <font color='darkblue' style='font-size: 20;'>Decision Tree</font> "
   ]
  },
  {
   "cell_type": "code",
   "execution_count": 74,
   "id": "1d9eb535",
   "metadata": {},
   "outputs": [],
   "source": [
    "from sklearn.tree import DecisionTreeClassifier"
   ]
  },
  {
   "cell_type": "code",
   "execution_count": 75,
   "id": "f17cc058",
   "metadata": {},
   "outputs": [],
   "source": [
    "#Creating the Decision Tree model\n",
    "dt = DecisionTreeClassifier(criterion='entropy', max_depth = 5, random_state=SEED)"
   ]
  },
  {
   "cell_type": "code",
   "execution_count": 76,
   "id": "f356499b",
   "metadata": {},
   "outputs": [],
   "source": [
    "#Fitting the Logistic Regression model and making predictions of test set\n",
    "dtc = dt.fit(X_train, y_train)\n",
    "Y_pred_dtc = dt.predict(X_test)"
   ]
  },
  {
   "cell_type": "code",
   "execution_count": 77,
   "id": "a4d404d6",
   "metadata": {},
   "outputs": [
    {
     "name": "stdout",
     "output_type": "stream",
     "text": [
      "Acurácia: 0.8002\n",
      "Precisão: 0.787\n",
      "Recall: 0.8112\n",
      "F1: 0.7989\n"
     ]
    }
   ],
   "source": [
    "#Metrics\n",
    "print(\"Accuracy:\",metrics.accuracy_score(Y_test, Y_pred_dtc).round(4))\n",
    "print(\"Precision:\",metrics.precision_score(Y_test, Y_pred_dtc).round(4))\n",
    "print(\"Recall:\",metrics.recall_score(Y_test, Y_pred_dtc).round(4)) \n",
    "print(\"F1:\",metrics.f1_score(Y_test, Y_pred_dtc).round(4))"
   ]
  },
  {
   "cell_type": "markdown",
   "id": "69519d48",
   "metadata": {},
   "source": [
    "#### <font color='darkblue' style='font-size: 20;'>Confusion Matrix - DT Model</font> "
   ]
  },
  {
   "cell_type": "code",
   "execution_count": 78,
   "id": "829e4c0c",
   "metadata": {},
   "outputs": [
    {
     "data": {
      "text/plain": [
       "<sklearn.metrics._plot.confusion_matrix.ConfusionMatrixDisplay at 0x1a229521250>"
      ]
     },
     "execution_count": 78,
     "metadata": {},
     "output_type": "execute_result"
    },
    {
     "data": {
      "image/png": "[encoded data removed]",
      "text/plain": [
       "<Figure size 864x576 with 2 Axes>"
      ]
     },
     "metadata": {
      "needs_background": "light"
     },
     "output_type": "display_data"
    }
   ],
   "source": [
    "cm = confusion_matrix(Y_test, Y_pred_dtc)\n",
    "disp = ConfusionMatrixDisplay(confusion_matrix=cm)\n",
    "disp.plot()"
   ]
  },
  {
   "cell_type": "markdown",
   "id": "f1509a2b",
   "metadata": {},
   "source": [
    "#### <font color='darkblue' style='font-size: 20;'>Curva ROC - DT Model</font> "
   ]
  },
  {
   "cell_type": "code",
   "execution_count": 79,
   "id": "7bfc176b",
   "metadata": {},
   "outputs": [
    {
     "data": {
      "text/plain": [
       "<matplotlib.legend.Legend at 0x1a22a8367f0>"
      ]
     },
     "execution_count": 79,
     "metadata": {},
     "output_type": "execute_result"
    },
    {
     "data": {
      "image/png": "[encoded data removed]",
      "text/plain": [
       "<Figure size 864x576 with 1 Axes>"
      ]
     },
     "metadata": {
      "needs_background": "light"
     },
     "output_type": "display_data"
    }
   ],
   "source": [
    "y_pred_proba = dtc.predict_proba(X_test)[::,1]\n",
    "fpr, tpr, _ = metrics.roc_curve(Y_test, y_pred_proba)\n",
    "auc = metrics.roc_auc_score(Y_test, y_pred_proba)\n",
    "\n",
    "plt.rcParams['figure.figsize']=(12.,8.)\n",
    "plt.plot(fpr, tpr, label=\"LR, auc=\"+str(auc))\n",
    "plt.plot([0,1], [0,1], color='r', lw=2, linestyle='--')\n",
    "plt.legend(loc=4)"
   ]
  },
  {
   "cell_type": "markdown",
   "id": "34c488cb",
   "metadata": {},
   "source": [
    "<hr style = 'border: 1px solid darkblue;'>"
   ]
  },
  {
   "cell_type": "markdown",
   "id": "b5909268",
   "metadata": {},
   "source": [
    "### <font color='darkblue' style='font-size: 20;'>Naive Bayes</font> "
   ]
  },
  {
   "cell_type": "code",
   "execution_count": 80,
   "id": "0ea65202",
   "metadata": {},
   "outputs": [],
   "source": [
    "from sklearn.naive_bayes import BernoulliNB as BNB"
   ]
  },
  {
   "cell_type": "code",
   "execution_count": 81,
   "id": "2b2930e8",
   "metadata": {},
   "outputs": [
    {
     "data": {
      "text/plain": [
       "-0.4461759755508453"
      ]
     },
     "execution_count": 81,
     "metadata": {},
     "output_type": "execute_result"
    }
   ],
   "source": [
    "# the median was chosen because it is the central value of the data\n",
    "median_x_train = np.median(X_train)\n",
    "median_x_train"
   ]
  },
  {
   "cell_type": "code",
   "execution_count": 82,
   "id": "aa97fae1",
   "metadata": {},
   "outputs": [],
   "source": [
    "#Creating the Naive Bayes model\n",
    "bnb = BNB(binarize = median_x_train)"
   ]
  },
  {
   "cell_type": "code",
   "execution_count": 84,
   "id": "d7027cec",
   "metadata": {},
   "outputs": [],
   "source": [
    "#Fitting the Random Forest model and making predictions of test set \n",
    "bnb.fit(X_train, Y_train)\n",
    "Y_pred_bnb = bnb.predict(X_test)"
   ]
  },
  {
   "cell_type": "code",
   "execution_count": 85,
   "id": "f56eb1e8",
   "metadata": {},
   "outputs": [
    {
     "name": "stdout",
     "output_type": "stream",
     "text": [
      "Accuracy: 0.7534\n",
      "Precision: 0.7093\n",
      "Recall: 0.8404\n",
      "F1: 0.7693\n"
     ]
    }
   ],
   "source": [
    "#Metrics\n",
    "print(\"Accuracy:\",metrics.accuracy_score(Y_test, Y_pred_bnb).round(4))\n",
    "print(\"Precision:\",metrics.precision_score(Y_test, Y_pred_bnb).round(4))\n",
    "print(\"Recall:\",metrics.recall_score(Y_test, Y_pred_bnb).round(4)) \n",
    "print(\"F1:\",metrics.f1_score(Y_test, Y_pred_bnb).round(4))"
   ]
  },
  {
   "cell_type": "markdown",
   "id": "140797d8",
   "metadata": {},
   "source": [
    "#### <font color='darkblue' style='font-size: 20;'>Confusion Matrix - RF Model</font> "
   ]
  },
  {
   "cell_type": "code",
   "execution_count": 86,
   "id": "efa8ce03",
   "metadata": {
    "scrolled": true
   },
   "outputs": [
    {
     "data": {
      "text/plain": [
       "<sklearn.metrics._plot.confusion_matrix.ConfusionMatrixDisplay at 0x1a22a844760>"
      ]
     },
     "execution_count": 86,
     "metadata": {},
     "output_type": "execute_result"
    },
    {
     "data": {
      "image/png": "[encoded data removed]",
      "text/plain": [
       "<Figure size 864x576 with 2 Axes>"
      ]
     },
     "metadata": {
      "needs_background": "light"
     },
     "output_type": "display_data"
    }
   ],
   "source": [
    "cm = confusion_matrix(Y_test, Y_pred_bnb)\n",
    "disp = ConfusionMatrixDisplay(confusion_matrix=cm)\n",
    "disp.plot()"
   ]
  },
  {
   "cell_type": "markdown",
   "id": "00c927ca",
   "metadata": {},
   "source": [
    "#### <font color='darkblue' style='font-size: 20;'>Curva ROC - RF Model</font> "
   ]
  },
  {
   "cell_type": "code",
   "execution_count": 87,
   "id": "0b487134",
   "metadata": {},
   "outputs": [
    {
     "data": {
      "text/plain": [
       "<matplotlib.legend.Legend at 0x1a22ab67070>"
      ]
     },
     "execution_count": 87,
     "metadata": {},
     "output_type": "execute_result"
    },
    {
     "data": {
      "image/png": "[encoded data removed]",
      "text/plain": [
       "<Figure size 864x576 with 1 Axes>"
      ]
     },
     "metadata": {
      "needs_background": "light"
     },
     "output_type": "display_data"
    }
   ],
   "source": [
    "y_pred_proba = bnb.predict_proba(X_test)[::,1]\n",
    "fpr, tpr, _ = metrics.roc_curve(Y_test, y_pred_proba)\n",
    "auc = metrics.roc_auc_score(Y_test, y_pred_proba)\n",
    "\n",
    "plt.rcParams['figure.figsize']=(12.,8.)\n",
    "plt.plot(fpr, tpr, label=\"LR, auc=\"+str(auc))\n",
    "plt.plot([0,1], [0,1], color='r', lw=2, linestyle='--')\n",
    "plt.legend(loc=4)"
   ]
  },
  {
   "cell_type": "markdown",
   "id": "e3b02ccb",
   "metadata": {},
   "source": [
    "# <font color='darkblue' style='font-size: 20;'>Analyzing the model results</font>\n",
    "<hr style = 'border: 1px solid darkblue;'>"
   ]
  },
  {
   "cell_type": "code",
   "execution_count": 91,
   "id": "b39982cb",
   "metadata": {},
   "outputs": [],
   "source": [
    "classifiers = [KNeighborsClassifier(metric='euclidean'),\n",
    "               DecisionTreeClassifier(criterion='entropy', max_depth = 5, random_state=SEED),\n",
    "               BNB(binarize = median_x_train)]"
   ]
  },
  {
   "cell_type": "code",
   "execution_count": 92,
   "id": "e7906c3e",
   "metadata": {},
   "outputs": [
    {
     "name": "stdout",
     "output_type": "stream",
     "text": [
      "==============================\n",
      "KNeighborsClassifier\n",
      "****Results****\n",
      "Accuracy: 0.8106\n",
      "Precision: 0.7939\n",
      "Recall: 0.8278\n",
      "F1: 0.8105\n",
      "==============================\n",
      "DecisionTreeClassifier\n",
      "****Results****\n",
      "Accuracy: 0.8002\n",
      "Precision: 0.787\n",
      "Recall: 0.8112\n",
      "F1: 0.7989\n",
      "==============================\n",
      "BernoulliNB\n",
      "****Results****\n",
      "Accuracy: 0.7534\n",
      "Precision: 0.7093\n",
      "Recall: 0.8404\n",
      "F1: 0.7693\n"
     ]
    }
   ],
   "source": [
    "for clf in classifiers:\n",
    "    clf.fit(X_train, Y_train)\n",
    "    name = clf.__class__.__name__\n",
    "    print(\"=\"*30)\n",
    "    print(name)\n",
    "    print('****Results****')\n",
    "    y_pred = clf.predict(X_test)\n",
    "    print(\"Accuracy:\",metrics.accuracy_score(Y_test, y_pred).round(4))\n",
    "    print(\"Precision:\",metrics.precision_score(Y_test, y_pred).round(4))\n",
    "    print(\"Recall:\",metrics.recall_score(Y_test, y_pred).round(4)) \n",
    "    print(\"F1:\",metrics.f1_score(Y_test, y_pred).round(4))\n",
    "    \n",
    "    #cm = confusion_matrix(y_test, y_pred)\n",
    "    #disp = ConfusionMatrixDisplay(confusion_matrix=cm)\n",
    "    #disp.plot()"
   ]
  },
  {
   "cell_type": "markdown",
   "id": "88cf654f",
   "metadata": {},
   "source": [
    "### Choosing the best model"
   ]
  },
  {
   "cell_type": "markdown",
   "id": "715b319e",
   "metadata": {},
   "source": [
    "Precision will measure how many positive values were correctly predicted as a whole in our model. Remembering that the true positives are the ones where Churn equals yes. \n",
    "\n",
    "It is this Churn that we need to pay attention to, it is the Churn that we have to reduce, it is the people who are leaving our company, we are losing profit, the company is losing with these customers leaving.\n",
    "\n",
    "Thus, the KNN model is chosen, as it has better metrics."
   ]
  },
  {
   "cell_type": "markdown",
   "id": "4894ea9c",
   "metadata": {},
   "source": [
    "# <font color='darkblue' style='font-size: 20;'>Improving the KNN Model</font>\n",
    "<hr style = 'border: 1px solid darkblue;'>"
   ]
  },
  {
   "cell_type": "markdown",
   "id": "d0a129a8",
   "metadata": {},
   "source": [
    "### <font color='darkblue' style='font-size: 20;'>RandomSearchCV</font>"
   ]
  },
  {
   "cell_type": "code",
   "execution_count": 93,
   "id": "5034954f",
   "metadata": {},
   "outputs": [],
   "source": [
    "from sklearn.model_selection import RandomizedSearchCV"
   ]
  },
  {
   "cell_type": "code",
   "execution_count": 95,
   "id": "2d92a916",
   "metadata": {},
   "outputs": [],
   "source": [
    "n_neighbors = np.arange(1,20,step=2)\n",
    "weights = ['uniform', 'distance']\n",
    "algorithm = ['auto', 'ball_tree', 'kd_tree', 'brute']\n",
    "metric = ['minkowski', 'euclidean']"
   ]
  },
  {
   "cell_type": "code",
   "execution_count": 96,
   "id": "4814f272",
   "metadata": {},
   "outputs": [],
   "source": [
    "param_grid = {\n",
    "    \"n_neighbors\": n_neighbors,\n",
    "    \"weights\": weights,\n",
    "    \"algorithm\": algorithm,\n",
    "    \"metric\": metric\n",
    "}"
   ]
  },
  {
   "cell_type": "code",
   "execution_count": 97,
   "id": "dc580d26",
   "metadata": {},
   "outputs": [],
   "source": [
    "knn = KNeighborsClassifier()"
   ]
  },
  {
   "cell_type": "code",
   "execution_count": 98,
   "id": "e8f78922",
   "metadata": {},
   "outputs": [],
   "source": [
    "random_cv = RandomizedSearchCV(knn,\n",
    "                              param_grid,\n",
    "                              n_iter=5,\n",
    "                              cv=3,\n",
    "                              scoring='precision',\n",
    "                              n_jobs=-1,\n",
    "                              random_state=70)"
   ]
  },
  {
   "cell_type": "code",
   "execution_count": 100,
   "id": "668f8c71",
   "metadata": {},
   "outputs": [
    {
     "name": "stdout",
     "output_type": "stream",
     "text": [
      "Wall time: 8.04 s\n"
     ]
    }
   ],
   "source": [
    "%%time\n",
    "rcv = random_cv.fit(X_norm, y)"
   ]
  },
  {
   "cell_type": "code",
   "execution_count": 101,
   "id": "d609dfcb",
   "metadata": {},
   "outputs": [
    {
     "data": {
      "text/plain": [
       "{'weights': 'distance',\n",
       " 'n_neighbors': 11,\n",
       " 'metric': 'minkowski',\n",
       " 'algorithm': 'kd_tree'}"
      ]
     },
     "execution_count": 101,
     "metadata": {},
     "output_type": "execute_result"
    }
   ],
   "source": [
    "rcv.best_params_"
   ]
  },
  {
   "cell_type": "markdown",
   "id": "d5b63586",
   "metadata": {},
   "source": [
    "# <font color='darkblue' style='font-size: 20;'>Final Model</font>\n",
    "<hr style = 'border: 1px solid darkblue;'>"
   ]
  },
  {
   "cell_type": "code",
   "execution_count": 102,
   "id": "1ab3ffaf",
   "metadata": {},
   "outputs": [],
   "source": [
    "#Creating the Random Forest model\n",
    "knn_final = KNeighborsClassifier(**rcv.best_params_)\n",
    "\n",
    "#Fitting the Random Forest model and making predictions of test set \n",
    "model = knn_final.fit(X_train, Y_train)\n",
    "y_pred = knn_final.predict(X_test)"
   ]
  },
  {
   "cell_type": "code",
   "execution_count": 103,
   "id": "61235c07",
   "metadata": {},
   "outputs": [
    {
     "name": "stdout",
     "output_type": "stream",
     "text": [
      "Accuracy: 0.8237\n",
      "Precision: 0.8045\n",
      "Recall: 0.8452\n",
      "F1: 0.8243\n"
     ]
    }
   ],
   "source": [
    "#Metrics\n",
    "print(\"Accuracy:\",metrics.accuracy_score(Y_test, y_pred).round(4))\n",
    "print(\"Precision:\",metrics.precision_score(Y_test, y_pred).round(4))\n",
    "print(\"Recall:\",metrics.recall_score(Y_test, y_pred).round(4)) \n",
    "print(\"F1:\",metrics.f1_score(Y_test, y_pred).round(4))"
   ]
  },
  {
   "cell_type": "markdown",
   "id": "f60d03f7",
   "metadata": {},
   "source": [
    "### <font color='darkblue' style='font-size: 20;'>Confusion Matrix - Final RF Model</font>"
   ]
  },
  {
   "cell_type": "code",
   "execution_count": 104,
   "id": "f22a891f",
   "metadata": {
    "scrolled": false
   },
   "outputs": [
    {
     "data": {
      "text/plain": [
       "<sklearn.metrics._plot.confusion_matrix.ConfusionMatrixDisplay at 0x1a229336eb0>"
      ]
     },
     "execution_count": 104,
     "metadata": {},
     "output_type": "execute_result"
    },
    {
     "data": {
      "image/png": "[encoded data removed]",
      "text/plain": [
       "<Figure size 864x576 with 2 Axes>"
      ]
     },
     "metadata": {
      "needs_background": "light"
     },
     "output_type": "display_data"
    }
   ],
   "source": [
    "cm = confusion_matrix(Y_test, y_pred)\n",
    "disp = ConfusionMatrixDisplay(confusion_matrix=cm)\n",
    "disp.plot()"
   ]
  }
 ],
 "metadata": {
  "kernelspec": {
   "display_name": "Python 3",
   "language": "python",
   "name": "python3"
  },
  "language_info": {
   "codemirror_mode": {
    "name": "ipython",
    "version": 3
   },
   "file_extension": ".py",
   "mimetype": "text/x-python",
   "name": "python",
   "nbconvert_exporter": "python",
   "pygments_lexer": "ipython3",
   "version": "3.8.8"
  }
 },
 "nbformat": 4,
 "nbformat_minor": 5
}
