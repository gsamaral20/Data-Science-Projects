{
 "cells": [
  {
   "cell_type": "markdown",
   "id": "562d1f9f",
   "metadata": {},
   "source": [
    "# <h1 style='color: darkblue; font-size: 30px;'>Data Science - Insurance Charge Regression Prediction</h1>\n",
    "\n",
    "<p style='margin: 30px 30px;'>\n",
    "    \n",
    "<hr style = 'border: 1px solid darkblue;'>"
   ]
  },
  {
   "cell_type": "markdown",
   "id": "95e124bd",
   "metadata": {},
   "source": [
    "# <font color='darkblue' style='font-size: 10;'>The project</font>\n",
    "\n",
    "### <font color='darkblue' style='font-size: 20;'>Description:</font>\n",
    "The main goal of the project is to use linear regression algorithm to predict charges of a Health Insurance.\n",
    "\n",
    "https://www.kaggle.com/datasets/shivadumnawar/health-insurance-dataset\n",
    "\n",
    "<hr style = 'border: 1px solid darkblue;'>"
   ]
  },
  {
   "cell_type": "markdown",
   "id": "fc6f5bce",
   "metadata": {},
   "source": [
    "# <font color='darkblue' style='font-size: 20;'>About the dataset</font>\n",
    "\n",
    "### <font color='darkblue' style='font-size: 20;'>Data</font>\n",
    "\n",
    "The dataset consists of 1338 data points stored as rows with 7 columns\n",
    "\n",
    "* **age:** age of the customer.\n",
    "* **sex** sex of the customer\n",
    "* **bmi:** body mass index of the individual\n",
    "* **children:** number of children he/she has\n",
    "* **smoker:** is that individual a frequent Smoker or not.\n",
    "* **region:** which region/part he/she lives in\n",
    "* **charges:** the target/independent feature\n",
    "\n",
    "<hr style = 'border: 1px solid darkblue;'>"
   ]
  },
  {
   "cell_type": "markdown",
   "id": "c21759e0",
   "metadata": {},
   "source": [
    "# <font color='darkblue' style='font-size: 20;'>Preparation</font>\n",
    "<hr style = 'border: 1px solid darkblue;'>"
   ]
  },
  {
   "cell_type": "markdown",
   "id": "3013453c",
   "metadata": {},
   "source": [
    "### <font color='darkblue' style='font-size: 20;'>Importing the required libraries</font>"
   ]
  },
  {
   "cell_type": "code",
   "execution_count": 1,
   "id": "6d3ed92b",
   "metadata": {},
   "outputs": [],
   "source": [
    "import pandas as pd\n",
    "import numpy as np\n",
    "import seaborn as sns\n",
    "import matplotlib.pyplot as plt\n",
    "\n",
    "import warnings\n",
    "warnings.filterwarnings('ignore')"
   ]
  },
  {
   "cell_type": "markdown",
   "id": "5185d9be",
   "metadata": {},
   "source": [
    "### <font color='darkblue' style='font-size: 20;'>Reading the dataset</font>"
   ]
  },
  {
   "cell_type": "code",
   "execution_count": 29,
   "id": "f21621e4",
   "metadata": {},
   "outputs": [],
   "source": [
    "df = pd.read_csv('..\\\\Projeto3_Insurance\\\\insurance.csv', sep = ',')"
   ]
  },
  {
   "cell_type": "markdown",
   "id": "568d2a1a",
   "metadata": {},
   "source": [
    "### <font color='darkblue' style='font-size: 20;'>Visualizating the dataset</font> "
   ]
  },
  {
   "cell_type": "code",
   "execution_count": 30,
   "id": "432b1328",
   "metadata": {},
   "outputs": [
    {
     "data": {
      "text/html": [
       "<div>\n",
       "<style scoped>\n",
       "    .dataframe tbody tr th:only-of-type {\n",
       "        vertical-align: middle;\n",
       "    }\n",
       "\n",
       "    .dataframe tbody tr th {\n",
       "        vertical-align: top;\n",
       "    }\n",
       "\n",
       "    .dataframe thead th {\n",
       "        text-align: right;\n",
       "    }\n",
       "</style>\n",
       "<table border=\"1\" class=\"dataframe\">\n",
       "  <thead>\n",
       "    <tr style=\"text-align: right;\">\n",
       "      <th></th>\n",
       "      <th>age</th>\n",
       "      <th>sex</th>\n",
       "      <th>bmi</th>\n",
       "      <th>children</th>\n",
       "      <th>smoker</th>\n",
       "      <th>region</th>\n",
       "      <th>charges</th>\n",
       "    </tr>\n",
       "  </thead>\n",
       "  <tbody>\n",
       "    <tr>\n",
       "      <th>0</th>\n",
       "      <td>19.0</td>\n",
       "      <td>female</td>\n",
       "      <td>27.900</td>\n",
       "      <td>0</td>\n",
       "      <td>yes</td>\n",
       "      <td>southwest</td>\n",
       "      <td>16884.92400</td>\n",
       "    </tr>\n",
       "    <tr>\n",
       "      <th>1</th>\n",
       "      <td>18.0</td>\n",
       "      <td>male</td>\n",
       "      <td>33.770</td>\n",
       "      <td>1</td>\n",
       "      <td>no</td>\n",
       "      <td>southeast</td>\n",
       "      <td>1725.55230</td>\n",
       "    </tr>\n",
       "    <tr>\n",
       "      <th>2</th>\n",
       "      <td>28.0</td>\n",
       "      <td>male</td>\n",
       "      <td>33.000</td>\n",
       "      <td>3</td>\n",
       "      <td>no</td>\n",
       "      <td>southeast</td>\n",
       "      <td>4449.46200</td>\n",
       "    </tr>\n",
       "    <tr>\n",
       "      <th>3</th>\n",
       "      <td>33.0</td>\n",
       "      <td>male</td>\n",
       "      <td>22.705</td>\n",
       "      <td>0</td>\n",
       "      <td>no</td>\n",
       "      <td>northwest</td>\n",
       "      <td>21984.47061</td>\n",
       "    </tr>\n",
       "    <tr>\n",
       "      <th>4</th>\n",
       "      <td>32.0</td>\n",
       "      <td>male</td>\n",
       "      <td>28.880</td>\n",
       "      <td>0</td>\n",
       "      <td>no</td>\n",
       "      <td>northwest</td>\n",
       "      <td>3866.85520</td>\n",
       "    </tr>\n",
       "  </tbody>\n",
       "</table>\n",
       "</div>"
      ],
      "text/plain": [
       "    age     sex     bmi  children smoker     region      charges\n",
       "0  19.0  female  27.900         0    yes  southwest  16884.92400\n",
       "1  18.0    male  33.770         1     no  southeast   1725.55230\n",
       "2  28.0    male  33.000         3     no  southeast   4449.46200\n",
       "3  33.0    male  22.705         0     no  northwest  21984.47061\n",
       "4  32.0    male  28.880         0     no  northwest   3866.85520"
      ]
     },
     "execution_count": 30,
     "metadata": {},
     "output_type": "execute_result"
    }
   ],
   "source": [
    "df.head()"
   ]
  },
  {
   "cell_type": "markdown",
   "id": "90a75138",
   "metadata": {},
   "source": [
    "### <font color='darkblue' style='font-size: 20;'>Verifying the size of the dataset</font> "
   ]
  },
  {
   "cell_type": "code",
   "execution_count": 31,
   "id": "593771a3",
   "metadata": {},
   "outputs": [
    {
     "data": {
      "text/plain": [
       "(1338, 7)"
      ]
     },
     "execution_count": 31,
     "metadata": {},
     "output_type": "execute_result"
    }
   ],
   "source": [
    "df.shape"
   ]
  },
  {
   "cell_type": "markdown",
   "id": "9baa3e7d",
   "metadata": {},
   "source": [
    "### <font color='darkblue' style='font-size: 20;'>Analyzing descriptive statistics</font> "
   ]
  },
  {
   "cell_type": "code",
   "execution_count": 32,
   "id": "ab9dcf99",
   "metadata": {
    "scrolled": true
   },
   "outputs": [
    {
     "data": {
      "text/html": [
       "<div>\n",
       "<style scoped>\n",
       "    .dataframe tbody tr th:only-of-type {\n",
       "        vertical-align: middle;\n",
       "    }\n",
       "\n",
       "    .dataframe tbody tr th {\n",
       "        vertical-align: top;\n",
       "    }\n",
       "\n",
       "    .dataframe thead th {\n",
       "        text-align: right;\n",
       "    }\n",
       "</style>\n",
       "<table border=\"1\" class=\"dataframe\">\n",
       "  <thead>\n",
       "    <tr style=\"text-align: right;\">\n",
       "      <th></th>\n",
       "      <th>age</th>\n",
       "      <th>bmi</th>\n",
       "      <th>children</th>\n",
       "      <th>charges</th>\n",
       "    </tr>\n",
       "  </thead>\n",
       "  <tbody>\n",
       "    <tr>\n",
       "      <th>count</th>\n",
       "      <td>1334.000000</td>\n",
       "      <td>1336.000000</td>\n",
       "      <td>1338.000000</td>\n",
       "      <td>1338.000000</td>\n",
       "    </tr>\n",
       "    <tr>\n",
       "      <th>mean</th>\n",
       "      <td>39.206147</td>\n",
       "      <td>30.663866</td>\n",
       "      <td>1.094918</td>\n",
       "      <td>13270.422265</td>\n",
       "    </tr>\n",
       "    <tr>\n",
       "      <th>std</th>\n",
       "      <td>14.070989</td>\n",
       "      <td>6.102741</td>\n",
       "      <td>1.205493</td>\n",
       "      <td>12110.011237</td>\n",
       "    </tr>\n",
       "    <tr>\n",
       "      <th>min</th>\n",
       "      <td>18.000000</td>\n",
       "      <td>15.960000</td>\n",
       "      <td>0.000000</td>\n",
       "      <td>1121.873900</td>\n",
       "    </tr>\n",
       "    <tr>\n",
       "      <th>25%</th>\n",
       "      <td>26.250000</td>\n",
       "      <td>26.272500</td>\n",
       "      <td>0.000000</td>\n",
       "      <td>4740.287150</td>\n",
       "    </tr>\n",
       "    <tr>\n",
       "      <th>50%</th>\n",
       "      <td>39.000000</td>\n",
       "      <td>30.400000</td>\n",
       "      <td>1.000000</td>\n",
       "      <td>9382.033000</td>\n",
       "    </tr>\n",
       "    <tr>\n",
       "      <th>75%</th>\n",
       "      <td>51.000000</td>\n",
       "      <td>34.700000</td>\n",
       "      <td>2.000000</td>\n",
       "      <td>16639.912515</td>\n",
       "    </tr>\n",
       "    <tr>\n",
       "      <th>max</th>\n",
       "      <td>64.000000</td>\n",
       "      <td>53.130000</td>\n",
       "      <td>5.000000</td>\n",
       "      <td>63770.428010</td>\n",
       "    </tr>\n",
       "  </tbody>\n",
       "</table>\n",
       "</div>"
      ],
      "text/plain": [
       "               age          bmi     children       charges\n",
       "count  1334.000000  1336.000000  1338.000000   1338.000000\n",
       "mean     39.206147    30.663866     1.094918  13270.422265\n",
       "std      14.070989     6.102741     1.205493  12110.011237\n",
       "min      18.000000    15.960000     0.000000   1121.873900\n",
       "25%      26.250000    26.272500     0.000000   4740.287150\n",
       "50%      39.000000    30.400000     1.000000   9382.033000\n",
       "75%      51.000000    34.700000     2.000000  16639.912515\n",
       "max      64.000000    53.130000     5.000000  63770.428010"
      ]
     },
     "execution_count": 32,
     "metadata": {},
     "output_type": "execute_result"
    }
   ],
   "source": [
    "df.describe()"
   ]
  },
  {
   "cell_type": "markdown",
   "id": "aaa629c1",
   "metadata": {},
   "source": [
    "### <font color='darkblue' style='font-size: 20;'>Checking if that there are no non-null values in the data</font> "
   ]
  },
  {
   "cell_type": "code",
   "execution_count": 33,
   "id": "192a7ee5",
   "metadata": {},
   "outputs": [
    {
     "name": "stdout",
     "output_type": "stream",
     "text": [
      "<class 'pandas.core.frame.DataFrame'>\n",
      "RangeIndex: 1338 entries, 0 to 1337\n",
      "Data columns (total 7 columns):\n",
      " #   Column    Non-Null Count  Dtype  \n",
      "---  ------    --------------  -----  \n",
      " 0   age       1334 non-null   float64\n",
      " 1   sex       1338 non-null   object \n",
      " 2   bmi       1336 non-null   float64\n",
      " 3   children  1338 non-null   int64  \n",
      " 4   smoker    1338 non-null   object \n",
      " 5   region    1338 non-null   object \n",
      " 6   charges   1338 non-null   float64\n",
      "dtypes: float64(3), int64(1), object(3)\n",
      "memory usage: 73.3+ KB\n"
     ]
    }
   ],
   "source": [
    "df.info()"
   ]
  },
  {
   "cell_type": "code",
   "execution_count": 34,
   "id": "cf6d3f57",
   "metadata": {},
   "outputs": [
    {
     "data": {
      "text/plain": [
       "age         4\n",
       "sex         0\n",
       "bmi         2\n",
       "children    0\n",
       "smoker      0\n",
       "region      0\n",
       "charges     0\n",
       "dtype: int64"
      ]
     },
     "execution_count": 34,
     "metadata": {},
     "output_type": "execute_result"
    }
   ],
   "source": [
    "df.isnull().sum()"
   ]
  },
  {
   "cell_type": "code",
   "execution_count": 35,
   "id": "e41276c8",
   "metadata": {},
   "outputs": [
    {
     "data": {
      "text/plain": [
       "age         4\n",
       "sex         0\n",
       "bmi         2\n",
       "children    0\n",
       "smoker      0\n",
       "region      0\n",
       "charges     0\n",
       "dtype: int64"
      ]
     },
     "execution_count": 35,
     "metadata": {},
     "output_type": "execute_result"
    }
   ],
   "source": [
    "df.isna().sum()"
   ]
  },
  {
   "cell_type": "markdown",
   "id": "606bb5b1",
   "metadata": {},
   "source": [
    "The columns \"age\" and \"bmi\" have null values, but they are few. These values will be replaced by the average."
   ]
  },
  {
   "cell_type": "markdown",
   "id": "3caf86e3",
   "metadata": {},
   "source": [
    "### <font color='darkblue' style='font-size: 20;'>Replace null values</font> "
   ]
  },
  {
   "cell_type": "code",
   "execution_count": 36,
   "id": "b9324ffa",
   "metadata": {},
   "outputs": [],
   "source": [
    "#calculation of the average age and bmi\n",
    "average_age = int(df['age'].mean())\n",
    "average_bmi = round(df['bmi'].mean(),3)"
   ]
  },
  {
   "cell_type": "code",
   "execution_count": 37,
   "id": "8396f6d3",
   "metadata": {},
   "outputs": [],
   "source": [
    "#Replace the null values by the average in the \"age\" and \"bmi\" columns\n",
    "df.update(df['age'].fillna(average_age))\n",
    "df.update(df['bmi'].fillna(average_bmi))"
   ]
  },
  {
   "cell_type": "code",
   "execution_count": 38,
   "id": "aca53f36",
   "metadata": {},
   "outputs": [
    {
     "data": {
      "text/plain": [
       "age         0\n",
       "sex         0\n",
       "bmi         0\n",
       "children    0\n",
       "smoker      0\n",
       "region      0\n",
       "charges     0\n",
       "dtype: int64"
      ]
     },
     "execution_count": 38,
     "metadata": {},
     "output_type": "execute_result"
    }
   ],
   "source": [
    "#Verify if the operations worked\n",
    "df.isnull().sum()"
   ]
  },
  {
   "cell_type": "markdown",
   "id": "46d06f04",
   "metadata": {},
   "source": [
    "### <font color='darkblue' style='font-size: 20;'>Modification of the \"smoker\" and \"sex\" columns</font> "
   ]
  },
  {
   "cell_type": "code",
   "execution_count": 39,
   "id": "2adffa1e",
   "metadata": {},
   "outputs": [
    {
     "data": {
      "text/html": [
       "<div>\n",
       "<style scoped>\n",
       "    .dataframe tbody tr th:only-of-type {\n",
       "        vertical-align: middle;\n",
       "    }\n",
       "\n",
       "    .dataframe tbody tr th {\n",
       "        vertical-align: top;\n",
       "    }\n",
       "\n",
       "    .dataframe thead th {\n",
       "        text-align: right;\n",
       "    }\n",
       "</style>\n",
       "<table border=\"1\" class=\"dataframe\">\n",
       "  <thead>\n",
       "    <tr style=\"text-align: right;\">\n",
       "      <th></th>\n",
       "      <th>age</th>\n",
       "      <th>sex</th>\n",
       "      <th>bmi</th>\n",
       "      <th>children</th>\n",
       "      <th>smoker</th>\n",
       "      <th>region</th>\n",
       "      <th>charges</th>\n",
       "    </tr>\n",
       "  </thead>\n",
       "  <tbody>\n",
       "    <tr>\n",
       "      <th>0</th>\n",
       "      <td>19.0</td>\n",
       "      <td>female</td>\n",
       "      <td>27.900</td>\n",
       "      <td>0</td>\n",
       "      <td>1</td>\n",
       "      <td>southwest</td>\n",
       "      <td>16884.92400</td>\n",
       "    </tr>\n",
       "    <tr>\n",
       "      <th>1</th>\n",
       "      <td>18.0</td>\n",
       "      <td>male</td>\n",
       "      <td>33.770</td>\n",
       "      <td>1</td>\n",
       "      <td>0</td>\n",
       "      <td>southeast</td>\n",
       "      <td>1725.55230</td>\n",
       "    </tr>\n",
       "    <tr>\n",
       "      <th>2</th>\n",
       "      <td>28.0</td>\n",
       "      <td>male</td>\n",
       "      <td>33.000</td>\n",
       "      <td>3</td>\n",
       "      <td>0</td>\n",
       "      <td>southeast</td>\n",
       "      <td>4449.46200</td>\n",
       "    </tr>\n",
       "    <tr>\n",
       "      <th>3</th>\n",
       "      <td>33.0</td>\n",
       "      <td>male</td>\n",
       "      <td>22.705</td>\n",
       "      <td>0</td>\n",
       "      <td>0</td>\n",
       "      <td>northwest</td>\n",
       "      <td>21984.47061</td>\n",
       "    </tr>\n",
       "    <tr>\n",
       "      <th>4</th>\n",
       "      <td>32.0</td>\n",
       "      <td>male</td>\n",
       "      <td>28.880</td>\n",
       "      <td>0</td>\n",
       "      <td>0</td>\n",
       "      <td>northwest</td>\n",
       "      <td>3866.85520</td>\n",
       "    </tr>\n",
       "  </tbody>\n",
       "</table>\n",
       "</div>"
      ],
      "text/plain": [
       "    age     sex     bmi  children  smoker     region      charges\n",
       "0  19.0  female  27.900         0       1  southwest  16884.92400\n",
       "1  18.0    male  33.770         1       0  southeast   1725.55230\n",
       "2  28.0    male  33.000         3       0  southeast   4449.46200\n",
       "3  33.0    male  22.705         0       0  northwest  21984.47061\n",
       "4  32.0    male  28.880         0       0  northwest   3866.85520"
      ]
     },
     "execution_count": 39,
     "metadata": {},
     "output_type": "execute_result"
    }
   ],
   "source": [
    "#Change smoker column\n",
    "smoker_map = {'yes': 1, 'no': 0}\n",
    "\n",
    "#Apply the mapping to the dataset\n",
    "df['smoker'] = df['smoker'].map(smoker_map)\n",
    "\n",
    "#Check the dataset\n",
    "df.head(5)"
   ]
  },
  {
   "cell_type": "markdown",
   "id": "841405cb",
   "metadata": {},
   "source": [
    "# <font color='darkblue' style='font-size: 20;'>Processing</font>\n",
    "<hr style = 'border: 1px solid darkblue;'>"
   ]
  },
  {
   "cell_type": "markdown",
   "id": "ca6feee3",
   "metadata": {},
   "source": [
    "### <font color='darkblue' style='font-size: 20;'>Exploratory Data Analysis</font> "
   ]
  },
  {
   "cell_type": "code",
   "execution_count": 40,
   "id": "91591449",
   "metadata": {},
   "outputs": [
    {
     "data": {
      "image/png": "[encoded data removed]",
      "text/plain": [
       "<Figure size 1440x288 with 4 Axes>"
      ]
     },
     "metadata": {
      "needs_background": "light"
     },
     "output_type": "display_data"
    }
   ],
   "source": [
    "#General Analyses\n",
    "fig, ax2 = plt.subplots(1,4,  figsize=(20,4))\n",
    "fig.suptitle('Value Counts of Gender, Smoker, Children and Region')\n",
    "sns.countplot(ax=ax2[0], x=df.sex)\n",
    "sns.countplot(ax=ax2[1], x=df.smoker)\n",
    "sns.countplot(ax=ax2[2], x=df.children)\n",
    "sns.countplot(ax=ax2[3], x=df.region)\n",
    "plt.show()"
   ]
  },
  {
   "cell_type": "markdown",
   "id": "4ac71c85",
   "metadata": {},
   "source": [
    "**Conclusions:**\n",
    "\n",
    "* There are slightly more males than females\n",
    "* There are more non-smokers\n",
    "* There are more childless people\n",
    "* There are more people from the 'southeast' region"
   ]
  },
  {
   "cell_type": "code",
   "execution_count": 19,
   "id": "9a61a387",
   "metadata": {
    "scrolled": false
   },
   "outputs": [
    {
     "data": {
      "image/png": "[encoded data removed]",
      "text/plain": [
       "<Figure size 1656x288 with 4 Axes>"
      ]
     },
     "metadata": {
      "needs_background": "light"
     },
     "output_type": "display_data"
    }
   ],
   "source": [
    "#Analyses in relation to costs\n",
    "fig, ax2 = plt.subplots(1,4,  figsize=(23,4))\n",
    "fig.suptitle('Plot of Gender, Smoker, Children and Region vs Charges',)\n",
    "sns.boxplot(ax=ax2[0], x=df.sex, y=df.charges)\n",
    "sns.boxplot(ax=ax2[1], x=df.smoker, y=df.charges)\n",
    "sns.lineplot(ax=ax2[2], x=df.children, y=df.charges)\n",
    "sns.boxplot(ax=ax2[3], x=df.region, y=df.charges)\n",
    "plt.show()"
   ]
  },
  {
   "cell_type": "markdown",
   "id": "43665281",
   "metadata": {},
   "source": [
    "**Conclusions:**\n",
    "* There is a higher charge for males\n",
    "* As expected, the charge for smokers is higher\n",
    "* Charges for people who have 2 and 3 children are higher\n",
    "* The 'southeast' region has higher charges"
   ]
  },
  {
   "cell_type": "code",
   "execution_count": 20,
   "id": "10a23bf9",
   "metadata": {},
   "outputs": [
    {
     "data": {
      "image/png": "[encoded data removed]",
      "text/plain": [
       "<Figure size 432x288 with 1 Axes>"
      ]
     },
     "metadata": {
      "needs_background": "light"
     },
     "output_type": "display_data"
    }
   ],
   "source": [
    "#Analysis of the amount of smokers by gender\n",
    "pd.crosstab(df.sex, df.smoker).plot(kind=\"bar\")\n",
    "plt.show()"
   ]
  },
  {
   "cell_type": "markdown",
   "id": "0c159942",
   "metadata": {},
   "source": [
    "**Conclusions:**\n",
    "* The number of male smokers is higher"
   ]
  },
  {
   "cell_type": "markdown",
   "id": "95830d81",
   "metadata": {},
   "source": [
    "### <font color='darkblue' style='font-size: 20;'>Correlation Matrix</font> "
   ]
  },
  {
   "cell_type": "code",
   "execution_count": 21,
   "id": "c3074415",
   "metadata": {},
   "outputs": [
    {
     "data": {
      "text/html": [
       "<div>\n",
       "<style scoped>\n",
       "    .dataframe tbody tr th:only-of-type {\n",
       "        vertical-align: middle;\n",
       "    }\n",
       "\n",
       "    .dataframe tbody tr th {\n",
       "        vertical-align: top;\n",
       "    }\n",
       "\n",
       "    .dataframe thead th {\n",
       "        text-align: right;\n",
       "    }\n",
       "</style>\n",
       "<table border=\"1\" class=\"dataframe\">\n",
       "  <thead>\n",
       "    <tr style=\"text-align: right;\">\n",
       "      <th></th>\n",
       "      <th>age</th>\n",
       "      <th>bmi</th>\n",
       "      <th>children</th>\n",
       "      <th>smoker</th>\n",
       "      <th>charges</th>\n",
       "    </tr>\n",
       "  </thead>\n",
       "  <tbody>\n",
       "    <tr>\n",
       "      <th>age</th>\n",
       "      <td>1.000000</td>\n",
       "      <td>0.109224</td>\n",
       "      <td>0.042433</td>\n",
       "      <td>-0.024965</td>\n",
       "      <td>0.299068</td>\n",
       "    </tr>\n",
       "    <tr>\n",
       "      <th>bmi</th>\n",
       "      <td>0.109224</td>\n",
       "      <td>1.000000</td>\n",
       "      <td>0.012881</td>\n",
       "      <td>0.003711</td>\n",
       "      <td>0.198323</td>\n",
       "    </tr>\n",
       "    <tr>\n",
       "      <th>children</th>\n",
       "      <td>0.042433</td>\n",
       "      <td>0.012881</td>\n",
       "      <td>1.000000</td>\n",
       "      <td>0.007673</td>\n",
       "      <td>0.067998</td>\n",
       "    </tr>\n",
       "    <tr>\n",
       "      <th>smoker</th>\n",
       "      <td>-0.024965</td>\n",
       "      <td>0.003711</td>\n",
       "      <td>0.007673</td>\n",
       "      <td>1.000000</td>\n",
       "      <td>0.787251</td>\n",
       "    </tr>\n",
       "    <tr>\n",
       "      <th>charges</th>\n",
       "      <td>0.299068</td>\n",
       "      <td>0.198323</td>\n",
       "      <td>0.067998</td>\n",
       "      <td>0.787251</td>\n",
       "      <td>1.000000</td>\n",
       "    </tr>\n",
       "  </tbody>\n",
       "</table>\n",
       "</div>"
      ],
      "text/plain": [
       "               age       bmi  children    smoker   charges\n",
       "age       1.000000  0.109224  0.042433 -0.024965  0.299068\n",
       "bmi       0.109224  1.000000  0.012881  0.003711  0.198323\n",
       "children  0.042433  0.012881  1.000000  0.007673  0.067998\n",
       "smoker   -0.024965  0.003711  0.007673  1.000000  0.787251\n",
       "charges   0.299068  0.198323  0.067998  0.787251  1.000000"
      ]
     },
     "execution_count": 21,
     "metadata": {},
     "output_type": "execute_result"
    }
   ],
   "source": [
    "df.corr()"
   ]
  },
  {
   "cell_type": "code",
   "execution_count": 23,
   "id": "deb004d7",
   "metadata": {
    "scrolled": false
   },
   "outputs": [
    {
     "data": {
      "image/png": "[encoded data removed]",
      "text/plain": [
       "<Figure size 432x288 with 2 Axes>"
      ]
     },
     "metadata": {
      "needs_background": "light"
     },
     "output_type": "display_data"
    }
   ],
   "source": [
    "sns.heatmap(df[['smoker','age', 'bmi', 'children', 'charges']].corr(), cmap='Blues', annot=True)\n",
    "plt.show()"
   ]
  },
  {
   "cell_type": "markdown",
   "id": "16f12f3a",
   "metadata": {},
   "source": [
    "**Conclusions:**\n",
    "* The highest correlation in the dataset for 'charges' is 'smoker', followed by 'age' and 'bmi'."
   ]
  },
  {
   "cell_type": "markdown",
   "id": "0c18fbb6",
   "metadata": {},
   "source": [
    "# <font color='darkblue' style='font-size: 20;'>Building the model</font>\n",
    "<hr style = 'border: 1px solid darkblue;'>"
   ]
  },
  {
   "cell_type": "markdown",
   "id": "99d2eb92",
   "metadata": {},
   "source": [
    "### <font color='darkblue' style='font-size: 20;'>Linear Regression</font> "
   ]
  },
  {
   "cell_type": "code",
   "execution_count": 24,
   "id": "640b9c5a",
   "metadata": {},
   "outputs": [],
   "source": [
    "from sklearn.model_selection import train_test_split\n",
    "from sklearn.linear_model import LinearRegression\n",
    "from sklearn.metrics import r2_score, mean_absolute_error, mean_squared_error\n",
    "from sklearn.preprocessing import RobustScaler, StandardScaler"
   ]
  },
  {
   "cell_type": "markdown",
   "id": "29be0402",
   "metadata": {},
   "source": [
    "#### <font color='darkblue' style='font-size: 20;'>Replace the values of the 'sex' column, where 0: male and 1: female</font> "
   ]
  },
  {
   "cell_type": "code",
   "execution_count": 41,
   "id": "e6819134",
   "metadata": {},
   "outputs": [
    {
     "data": {
      "text/html": [
       "<div>\n",
       "<style scoped>\n",
       "    .dataframe tbody tr th:only-of-type {\n",
       "        vertical-align: middle;\n",
       "    }\n",
       "\n",
       "    .dataframe tbody tr th {\n",
       "        vertical-align: top;\n",
       "    }\n",
       "\n",
       "    .dataframe thead th {\n",
       "        text-align: right;\n",
       "    }\n",
       "</style>\n",
       "<table border=\"1\" class=\"dataframe\">\n",
       "  <thead>\n",
       "    <tr style=\"text-align: right;\">\n",
       "      <th></th>\n",
       "      <th>age</th>\n",
       "      <th>sex</th>\n",
       "      <th>bmi</th>\n",
       "      <th>children</th>\n",
       "      <th>smoker</th>\n",
       "      <th>region</th>\n",
       "      <th>charges</th>\n",
       "    </tr>\n",
       "  </thead>\n",
       "  <tbody>\n",
       "    <tr>\n",
       "      <th>0</th>\n",
       "      <td>19.0</td>\n",
       "      <td>1</td>\n",
       "      <td>27.900</td>\n",
       "      <td>0</td>\n",
       "      <td>1</td>\n",
       "      <td>southwest</td>\n",
       "      <td>16884.92400</td>\n",
       "    </tr>\n",
       "    <tr>\n",
       "      <th>1</th>\n",
       "      <td>18.0</td>\n",
       "      <td>0</td>\n",
       "      <td>33.770</td>\n",
       "      <td>1</td>\n",
       "      <td>0</td>\n",
       "      <td>southeast</td>\n",
       "      <td>1725.55230</td>\n",
       "    </tr>\n",
       "    <tr>\n",
       "      <th>2</th>\n",
       "      <td>28.0</td>\n",
       "      <td>0</td>\n",
       "      <td>33.000</td>\n",
       "      <td>3</td>\n",
       "      <td>0</td>\n",
       "      <td>southeast</td>\n",
       "      <td>4449.46200</td>\n",
       "    </tr>\n",
       "    <tr>\n",
       "      <th>3</th>\n",
       "      <td>33.0</td>\n",
       "      <td>0</td>\n",
       "      <td>22.705</td>\n",
       "      <td>0</td>\n",
       "      <td>0</td>\n",
       "      <td>northwest</td>\n",
       "      <td>21984.47061</td>\n",
       "    </tr>\n",
       "    <tr>\n",
       "      <th>4</th>\n",
       "      <td>32.0</td>\n",
       "      <td>0</td>\n",
       "      <td>28.880</td>\n",
       "      <td>0</td>\n",
       "      <td>0</td>\n",
       "      <td>northwest</td>\n",
       "      <td>3866.85520</td>\n",
       "    </tr>\n",
       "  </tbody>\n",
       "</table>\n",
       "</div>"
      ],
      "text/plain": [
       "    age  sex     bmi  children  smoker     region      charges\n",
       "0  19.0    1  27.900         0       1  southwest  16884.92400\n",
       "1  18.0    0  33.770         1       0  southeast   1725.55230\n",
       "2  28.0    0  33.000         3       0  southeast   4449.46200\n",
       "3  33.0    0  22.705         0       0  northwest  21984.47061\n",
       "4  32.0    0  28.880         0       0  northwest   3866.85520"
      ]
     },
     "execution_count": 41,
     "metadata": {},
     "output_type": "execute_result"
    }
   ],
   "source": [
    "#Change sex column\n",
    "sex_map = {'female': 1, 'male': 0}\n",
    "\n",
    "#Apply the mapping to the dataset\n",
    "df['sex'] = df['sex'].map(sex_map)\n",
    "\n",
    "#Check the dataset\n",
    "df.head(5)"
   ]
  },
  {
   "cell_type": "code",
   "execution_count": 42,
   "id": "18e92ce4",
   "metadata": {},
   "outputs": [],
   "source": [
    "#Setting the value for dependent and independent variables\n",
    "features = ['age', 'sex', 'bmi', 'children', 'smoker']\n",
    "target = ['charges']\n",
    "\n",
    "x = df[features].values\n",
    "y = df[target].values"
   ]
  },
  {
   "cell_type": "code",
   "execution_count": 43,
   "id": "b7b304f8",
   "metadata": {},
   "outputs": [],
   "source": [
    "#Splitting the dataset\n",
    "SEED = 42\n",
    "X_train, X_test, y_train, y_test = train_test_split(x, y, test_size=0.30, random_state=SEED)"
   ]
  },
  {
   "cell_type": "code",
   "execution_count": 44,
   "id": "965b23f4",
   "metadata": {},
   "outputs": [
    {
     "data": {
      "text/html": [
       "<style>#sk-container-id-1 {color: black;background-color: white;}#sk-container-id-1 pre{padding: 0;}#sk-container-id-1 div.sk-toggleable {background-color: white;}#sk-container-id-1 label.sk-toggleable__label {cursor: pointer;display: block;width: 100%;margin-bottom: 0;padding: 0.3em;box-sizing: border-box;text-align: center;}#sk-container-id-1 label.sk-toggleable__label-arrow:before {content: \"▸\";float: left;margin-right: 0.25em;color: #696969;}#sk-container-id-1 label.sk-toggleable__label-arrow:hover:before {color: black;}#sk-container-id-1 div.sk-estimator:hover label.sk-toggleable__label-arrow:before {color: black;}#sk-container-id-1 div.sk-toggleable__content {max-height: 0;max-width: 0;overflow: hidden;text-align: left;background-color: #f0f8ff;}#sk-container-id-1 div.sk-toggleable__content pre {margin: 0.2em;color: black;border-radius: 0.25em;background-color: #f0f8ff;}#sk-container-id-1 input.sk-toggleable__control:checked~div.sk-toggleable__content {max-height: 200px;max-width: 100%;overflow: auto;}#sk-container-id-1 input.sk-toggleable__control:checked~label.sk-toggleable__label-arrow:before {content: \"▾\";}#sk-container-id-1 div.sk-estimator input.sk-toggleable__control:checked~label.sk-toggleable__label {background-color: #d4ebff;}#sk-container-id-1 div.sk-label input.sk-toggleable__control:checked~label.sk-toggleable__label {background-color: #d4ebff;}#sk-container-id-1 input.sk-hidden--visually {border: 0;clip: rect(1px 1px 1px 1px);clip: rect(1px, 1px, 1px, 1px);height: 1px;margin: -1px;overflow: hidden;padding: 0;position: absolute;width: 1px;}#sk-container-id-1 div.sk-estimator {font-family: monospace;background-color: #f0f8ff;border: 1px dotted black;border-radius: 0.25em;box-sizing: border-box;margin-bottom: 0.5em;}#sk-container-id-1 div.sk-estimator:hover {background-color: #d4ebff;}#sk-container-id-1 div.sk-parallel-item::after {content: \"\";width: 100%;border-bottom: 1px solid gray;flex-grow: 1;}#sk-container-id-1 div.sk-label:hover label.sk-toggleable__label {background-color: #d4ebff;}#sk-container-id-1 div.sk-serial::before {content: \"\";position: absolute;border-left: 1px solid gray;box-sizing: border-box;top: 0;bottom: 0;left: 50%;z-index: 0;}#sk-container-id-1 div.sk-serial {display: flex;flex-direction: column;align-items: center;background-color: white;padding-right: 0.2em;padding-left: 0.2em;position: relative;}#sk-container-id-1 div.sk-item {position: relative;z-index: 1;}#sk-container-id-1 div.sk-parallel {display: flex;align-items: stretch;justify-content: center;background-color: white;position: relative;}#sk-container-id-1 div.sk-item::before, #sk-container-id-1 div.sk-parallel-item::before {content: \"\";position: absolute;border-left: 1px solid gray;box-sizing: border-box;top: 0;bottom: 0;left: 50%;z-index: -1;}#sk-container-id-1 div.sk-parallel-item {display: flex;flex-direction: column;z-index: 1;position: relative;background-color: white;}#sk-container-id-1 div.sk-parallel-item:first-child::after {align-self: flex-end;width: 50%;}#sk-container-id-1 div.sk-parallel-item:last-child::after {align-self: flex-start;width: 50%;}#sk-container-id-1 div.sk-parallel-item:only-child::after {width: 0;}#sk-container-id-1 div.sk-dashed-wrapped {border: 1px dashed gray;margin: 0 0.4em 0.5em 0.4em;box-sizing: border-box;padding-bottom: 0.4em;background-color: white;}#sk-container-id-1 div.sk-label label {font-family: monospace;font-weight: bold;display: inline-block;line-height: 1.2em;}#sk-container-id-1 div.sk-label-container {text-align: center;}#sk-container-id-1 div.sk-container {/* jupyter's `normalize.less` sets `[hidden] { display: none; }` but bootstrap.min.css set `[hidden] { display: none !important; }` so we also need the `!important` here to be able to override the default hidden behavior on the sphinx rendered scikit-learn.org. See: https://github.com/scikit-learn/scikit-learn/issues/21755 */display: inline-block !important;position: relative;}#sk-container-id-1 div.sk-text-repr-fallback {display: none;}</style><div id=\"sk-container-id-1\" class=\"sk-top-container\"><div class=\"sk-text-repr-fallback\"><pre>LinearRegression()</pre><b>In a Jupyter environment, please rerun this cell to show the HTML representation or trust the notebook. <br />On GitHub, the HTML representation is unable to render, please try loading this page with nbviewer.org.</b></div><div class=\"sk-container\" hidden><div class=\"sk-item\"><div class=\"sk-estimator sk-toggleable\"><input class=\"sk-toggleable__control sk-hidden--visually\" id=\"sk-estimator-id-1\" type=\"checkbox\" checked><label for=\"sk-estimator-id-1\" class=\"sk-toggleable__label sk-toggleable__label-arrow\">LinearRegression</label><div class=\"sk-toggleable__content\"><pre>LinearRegression()</pre></div></div></div></div></div>"
      ],
      "text/plain": [
       "LinearRegression()"
      ]
     },
     "execution_count": 44,
     "metadata": {},
     "output_type": "execute_result"
    }
   ],
   "source": [
    "#Creating the Logistic Regression model\n",
    "lr = LinearRegression()\n",
    "\n",
    "#Fitting the Logistic Regression model\n",
    "lr.fit(X_train, y_train)"
   ]
  },
  {
   "cell_type": "code",
   "execution_count": 55,
   "id": "a4b2f6e8",
   "metadata": {},
   "outputs": [
    {
     "data": {
      "text/plain": [
       "(0.7681214799764344, 4170.924582544893, 5830.8685042598545)"
      ]
     },
     "execution_count": 55,
     "metadata": {},
     "output_type": "execute_result"
    }
   ],
   "source": [
    "#Prediction of test set\n",
    "y_pred = lr.predict(X_test)"
   ]
  },
  {
   "cell_type": "code",
   "execution_count": 60,
   "id": "2889778a",
   "metadata": {},
   "outputs": [
    {
     "name": "stdout",
     "output_type": "stream",
     "text": [
      "MAE: 4170.9246\n",
      "RMSE: 5830.8685\n",
      "R2 Score: 0.7681\n"
     ]
    }
   ],
   "source": [
    "#Metrics\n",
    "print(\"MAE:\", round(mean_absolute_error(y_test, y_pred),4))\n",
    "print(\"RMSE:\", round(np.sqrt(mean_squared_error(y_test, y_pred)),4))\n",
    "print(\"R2 Score:\",round(r2_score(y_test, y_pred),4))"
   ]
  },
  {
   "cell_type": "code",
   "execution_count": 61,
   "id": "70ad982d",
   "metadata": {},
   "outputs": [
    {
     "data": {
      "text/html": [
       "<div>\n",
       "<style scoped>\n",
       "    .dataframe tbody tr th:only-of-type {\n",
       "        vertical-align: middle;\n",
       "    }\n",
       "\n",
       "    .dataframe tbody tr th {\n",
       "        vertical-align: top;\n",
       "    }\n",
       "\n",
       "    .dataframe thead th {\n",
       "        text-align: right;\n",
       "    }\n",
       "</style>\n",
       "<table border=\"1\" class=\"dataframe\">\n",
       "  <thead>\n",
       "    <tr style=\"text-align: right;\">\n",
       "      <th></th>\n",
       "      <th>Actual</th>\n",
       "      <th>Predicted</th>\n",
       "    </tr>\n",
       "  </thead>\n",
       "  <tbody>\n",
       "    <tr>\n",
       "      <th>0</th>\n",
       "      <td>[9095.06825]</td>\n",
       "      <td>[8504.727392813398]</td>\n",
       "    </tr>\n",
       "    <tr>\n",
       "      <th>1</th>\n",
       "      <td>[5272.1758]</td>\n",
       "      <td>[6897.903777777792]</td>\n",
       "    </tr>\n",
       "    <tr>\n",
       "      <th>2</th>\n",
       "      <td>[29330.98315]</td>\n",
       "      <td>[36805.557111416536]</td>\n",
       "    </tr>\n",
       "    <tr>\n",
       "      <th>3</th>\n",
       "      <td>[9301.89355]</td>\n",
       "      <td>[9526.321994797047]</td>\n",
       "    </tr>\n",
       "    <tr>\n",
       "      <th>4</th>\n",
       "      <td>[33750.2918]</td>\n",
       "      <td>[26833.93346330358]</td>\n",
       "    </tr>\n",
       "  </tbody>\n",
       "</table>\n",
       "</div>"
      ],
      "text/plain": [
       "          Actual             Predicted\n",
       "0   [9095.06825]   [8504.727392813398]\n",
       "1    [5272.1758]   [6897.903777777792]\n",
       "2  [29330.98315]  [36805.557111416536]\n",
       "3   [9301.89355]   [9526.321994797047]\n",
       "4   [33750.2918]   [26833.93346330358]"
      ]
     },
     "execution_count": 61,
     "metadata": {},
     "output_type": "execute_result"
    }
   ],
   "source": [
    "#Comparison between the actual values and the values estimated by the model\n",
    "df_predict = pd.DataFrame((zip(y_test, y_pred)), columns = ['Actual', 'Predicted'])\n",
    "df_predict.head()"
   ]
  }
 ],
 "metadata": {
  "kernelspec": {
   "display_name": "Python 3",
   "language": "python",
   "name": "python3"
  },
  "language_info": {
   "codemirror_mode": {
    "name": "ipython",
    "version": 3
   },
   "file_extension": ".py",
   "mimetype": "text/x-python",
   "name": "python",
   "nbconvert_exporter": "python",
   "pygments_lexer": "ipython3",
   "version": "3.8.8"
  }
 },
 "nbformat": 4,
 "nbformat_minor": 5
}
